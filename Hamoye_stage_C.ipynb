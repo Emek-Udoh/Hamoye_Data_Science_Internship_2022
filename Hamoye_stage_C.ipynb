{
 "cells": [
  {
   "cell_type": "markdown",
   "id": "f45449c2",
   "metadata": {},
   "source": [
    "**SOLUTIONS TO STAGE C QUIZ by EMEK UDOH**"
   ]
  },
  {
   "cell_type": "code",
   "execution_count": 1,
   "id": "7cc267c0",
   "metadata": {},
   "outputs": [],
   "source": [
    "#Importing the libraries\n",
    "import numpy as np \n",
    "import pandas as pd\n",
    "#Data Visualization libraries\n",
    "import matplotlib.pyplot as plt\n",
    "import seaborn as sns"
   ]
  },
  {
   "cell_type": "code",
   "execution_count": 2,
   "id": "4e4717c3",
   "metadata": {},
   "outputs": [],
   "source": [
    "#To supress warnings in my output\n",
    "import warnings\n",
    "warnings.filterwarnings('ignore')"
   ]
  },
  {
   "cell_type": "code",
   "execution_count": 3,
   "id": "496d06e9",
   "metadata": {},
   "outputs": [],
   "source": [
    "quiz_data = pd.read_csv('electrical_ggridd.csv')"
   ]
  },
  {
   "cell_type": "code",
   "execution_count": 4,
   "id": "eb963a3a",
   "metadata": {},
   "outputs": [
    {
     "data": {
      "text/html": [
       "<div>\n",
       "<style scoped>\n",
       "    .dataframe tbody tr th:only-of-type {\n",
       "        vertical-align: middle;\n",
       "    }\n",
       "\n",
       "    .dataframe tbody tr th {\n",
       "        vertical-align: top;\n",
       "    }\n",
       "\n",
       "    .dataframe thead th {\n",
       "        text-align: right;\n",
       "    }\n",
       "</style>\n",
       "<table border=\"1\" class=\"dataframe\">\n",
       "  <thead>\n",
       "    <tr style=\"text-align: right;\">\n",
       "      <th></th>\n",
       "      <th>tau1</th>\n",
       "      <th>tau2</th>\n",
       "      <th>tau3</th>\n",
       "      <th>tau4</th>\n",
       "      <th>p1</th>\n",
       "      <th>p2</th>\n",
       "      <th>p3</th>\n",
       "      <th>p4</th>\n",
       "      <th>g1</th>\n",
       "      <th>g2</th>\n",
       "      <th>g3</th>\n",
       "      <th>g4</th>\n",
       "      <th>stab</th>\n",
       "      <th>stabf</th>\n",
       "    </tr>\n",
       "  </thead>\n",
       "  <tbody>\n",
       "    <tr>\n",
       "      <th>0</th>\n",
       "      <td>2.959060</td>\n",
       "      <td>3.079885</td>\n",
       "      <td>8.381025</td>\n",
       "      <td>9.780754</td>\n",
       "      <td>3.763085</td>\n",
       "      <td>-0.782604</td>\n",
       "      <td>-1.257395</td>\n",
       "      <td>-1.723086</td>\n",
       "      <td>0.650456</td>\n",
       "      <td>0.859578</td>\n",
       "      <td>0.887445</td>\n",
       "      <td>0.958034</td>\n",
       "      <td>0.055347</td>\n",
       "      <td>unstable</td>\n",
       "    </tr>\n",
       "    <tr>\n",
       "      <th>1</th>\n",
       "      <td>9.304097</td>\n",
       "      <td>4.902524</td>\n",
       "      <td>3.047541</td>\n",
       "      <td>1.369357</td>\n",
       "      <td>5.067812</td>\n",
       "      <td>-1.940058</td>\n",
       "      <td>-1.872742</td>\n",
       "      <td>-1.255012</td>\n",
       "      <td>0.413441</td>\n",
       "      <td>0.862414</td>\n",
       "      <td>0.562139</td>\n",
       "      <td>0.781760</td>\n",
       "      <td>-0.005957</td>\n",
       "      <td>stable</td>\n",
       "    </tr>\n",
       "    <tr>\n",
       "      <th>2</th>\n",
       "      <td>8.971707</td>\n",
       "      <td>8.848428</td>\n",
       "      <td>3.046479</td>\n",
       "      <td>1.214518</td>\n",
       "      <td>3.405158</td>\n",
       "      <td>-1.207456</td>\n",
       "      <td>-1.277210</td>\n",
       "      <td>-0.920492</td>\n",
       "      <td>0.163041</td>\n",
       "      <td>0.766689</td>\n",
       "      <td>0.839444</td>\n",
       "      <td>0.109853</td>\n",
       "      <td>0.003471</td>\n",
       "      <td>unstable</td>\n",
       "    </tr>\n",
       "    <tr>\n",
       "      <th>3</th>\n",
       "      <td>0.716415</td>\n",
       "      <td>7.669600</td>\n",
       "      <td>4.486641</td>\n",
       "      <td>2.340563</td>\n",
       "      <td>3.963791</td>\n",
       "      <td>-1.027473</td>\n",
       "      <td>-1.938944</td>\n",
       "      <td>-0.997374</td>\n",
       "      <td>0.446209</td>\n",
       "      <td>0.976744</td>\n",
       "      <td>0.929381</td>\n",
       "      <td>0.362718</td>\n",
       "      <td>0.028871</td>\n",
       "      <td>unstable</td>\n",
       "    </tr>\n",
       "    <tr>\n",
       "      <th>4</th>\n",
       "      <td>3.134112</td>\n",
       "      <td>7.608772</td>\n",
       "      <td>4.943759</td>\n",
       "      <td>9.857573</td>\n",
       "      <td>3.525811</td>\n",
       "      <td>-1.125531</td>\n",
       "      <td>-1.845975</td>\n",
       "      <td>-0.554305</td>\n",
       "      <td>0.797110</td>\n",
       "      <td>0.455450</td>\n",
       "      <td>0.656947</td>\n",
       "      <td>0.820923</td>\n",
       "      <td>0.049860</td>\n",
       "      <td>unstable</td>\n",
       "    </tr>\n",
       "  </tbody>\n",
       "</table>\n",
       "</div>"
      ],
      "text/plain": [
       "       tau1      tau2      tau3      tau4        p1        p2        p3  \\\n",
       "0  2.959060  3.079885  8.381025  9.780754  3.763085 -0.782604 -1.257395   \n",
       "1  9.304097  4.902524  3.047541  1.369357  5.067812 -1.940058 -1.872742   \n",
       "2  8.971707  8.848428  3.046479  1.214518  3.405158 -1.207456 -1.277210   \n",
       "3  0.716415  7.669600  4.486641  2.340563  3.963791 -1.027473 -1.938944   \n",
       "4  3.134112  7.608772  4.943759  9.857573  3.525811 -1.125531 -1.845975   \n",
       "\n",
       "         p4        g1        g2        g3        g4      stab     stabf  \n",
       "0 -1.723086  0.650456  0.859578  0.887445  0.958034  0.055347  unstable  \n",
       "1 -1.255012  0.413441  0.862414  0.562139  0.781760 -0.005957    stable  \n",
       "2 -0.920492  0.163041  0.766689  0.839444  0.109853  0.003471  unstable  \n",
       "3 -0.997374  0.446209  0.976744  0.929381  0.362718  0.028871  unstable  \n",
       "4 -0.554305  0.797110  0.455450  0.656947  0.820923  0.049860  unstable  "
      ]
     },
     "execution_count": 4,
     "metadata": {},
     "output_type": "execute_result"
    }
   ],
   "source": [
    "quiz_data. head() "
   ]
  },
  {
   "cell_type": "code",
   "execution_count": 5,
   "id": "ae4436cb",
   "metadata": {},
   "outputs": [
    {
     "data": {
      "text/html": [
       "<div>\n",
       "<style scoped>\n",
       "    .dataframe tbody tr th:only-of-type {\n",
       "        vertical-align: middle;\n",
       "    }\n",
       "\n",
       "    .dataframe tbody tr th {\n",
       "        vertical-align: top;\n",
       "    }\n",
       "\n",
       "    .dataframe thead th {\n",
       "        text-align: right;\n",
       "    }\n",
       "</style>\n",
       "<table border=\"1\" class=\"dataframe\">\n",
       "  <thead>\n",
       "    <tr style=\"text-align: right;\">\n",
       "      <th></th>\n",
       "      <th>tau1</th>\n",
       "      <th>tau2</th>\n",
       "      <th>tau3</th>\n",
       "      <th>tau4</th>\n",
       "      <th>p1</th>\n",
       "      <th>p2</th>\n",
       "      <th>p3</th>\n",
       "      <th>p4</th>\n",
       "      <th>g1</th>\n",
       "      <th>g2</th>\n",
       "      <th>g3</th>\n",
       "      <th>g4</th>\n",
       "      <th>stab</th>\n",
       "      <th>stabf</th>\n",
       "    </tr>\n",
       "  </thead>\n",
       "  <tbody>\n",
       "    <tr>\n",
       "      <th>9995</th>\n",
       "      <td>2.930406</td>\n",
       "      <td>9.487627</td>\n",
       "      <td>2.376523</td>\n",
       "      <td>6.187797</td>\n",
       "      <td>3.343416</td>\n",
       "      <td>-0.658054</td>\n",
       "      <td>-1.449106</td>\n",
       "      <td>-1.236256</td>\n",
       "      <td>0.601709</td>\n",
       "      <td>0.779642</td>\n",
       "      <td>0.813512</td>\n",
       "      <td>0.608385</td>\n",
       "      <td>0.023892</td>\n",
       "      <td>unstable</td>\n",
       "    </tr>\n",
       "    <tr>\n",
       "      <th>9996</th>\n",
       "      <td>3.392299</td>\n",
       "      <td>1.274827</td>\n",
       "      <td>2.954947</td>\n",
       "      <td>6.894759</td>\n",
       "      <td>4.349512</td>\n",
       "      <td>-1.663661</td>\n",
       "      <td>-0.952437</td>\n",
       "      <td>-1.733414</td>\n",
       "      <td>0.502079</td>\n",
       "      <td>0.567242</td>\n",
       "      <td>0.285880</td>\n",
       "      <td>0.366120</td>\n",
       "      <td>-0.025803</td>\n",
       "      <td>stable</td>\n",
       "    </tr>\n",
       "    <tr>\n",
       "      <th>9997</th>\n",
       "      <td>2.364034</td>\n",
       "      <td>2.842030</td>\n",
       "      <td>8.776391</td>\n",
       "      <td>1.008906</td>\n",
       "      <td>4.299976</td>\n",
       "      <td>-1.380719</td>\n",
       "      <td>-0.943884</td>\n",
       "      <td>-1.975373</td>\n",
       "      <td>0.487838</td>\n",
       "      <td>0.986505</td>\n",
       "      <td>0.149286</td>\n",
       "      <td>0.145984</td>\n",
       "      <td>-0.031810</td>\n",
       "      <td>stable</td>\n",
       "    </tr>\n",
       "    <tr>\n",
       "      <th>9998</th>\n",
       "      <td>9.631511</td>\n",
       "      <td>3.994398</td>\n",
       "      <td>2.757071</td>\n",
       "      <td>7.821347</td>\n",
       "      <td>2.514755</td>\n",
       "      <td>-0.966330</td>\n",
       "      <td>-0.649915</td>\n",
       "      <td>-0.898510</td>\n",
       "      <td>0.365246</td>\n",
       "      <td>0.587558</td>\n",
       "      <td>0.889118</td>\n",
       "      <td>0.818391</td>\n",
       "      <td>0.037789</td>\n",
       "      <td>unstable</td>\n",
       "    </tr>\n",
       "    <tr>\n",
       "      <th>9999</th>\n",
       "      <td>6.530527</td>\n",
       "      <td>6.781790</td>\n",
       "      <td>4.349695</td>\n",
       "      <td>8.673138</td>\n",
       "      <td>3.492807</td>\n",
       "      <td>-1.390285</td>\n",
       "      <td>-1.532193</td>\n",
       "      <td>-0.570329</td>\n",
       "      <td>0.073056</td>\n",
       "      <td>0.505441</td>\n",
       "      <td>0.378761</td>\n",
       "      <td>0.942631</td>\n",
       "      <td>0.045263</td>\n",
       "      <td>unstable</td>\n",
       "    </tr>\n",
       "  </tbody>\n",
       "</table>\n",
       "</div>"
      ],
      "text/plain": [
       "          tau1      tau2      tau3      tau4        p1        p2        p3  \\\n",
       "9995  2.930406  9.487627  2.376523  6.187797  3.343416 -0.658054 -1.449106   \n",
       "9996  3.392299  1.274827  2.954947  6.894759  4.349512 -1.663661 -0.952437   \n",
       "9997  2.364034  2.842030  8.776391  1.008906  4.299976 -1.380719 -0.943884   \n",
       "9998  9.631511  3.994398  2.757071  7.821347  2.514755 -0.966330 -0.649915   \n",
       "9999  6.530527  6.781790  4.349695  8.673138  3.492807 -1.390285 -1.532193   \n",
       "\n",
       "            p4        g1        g2        g3        g4      stab     stabf  \n",
       "9995 -1.236256  0.601709  0.779642  0.813512  0.608385  0.023892  unstable  \n",
       "9996 -1.733414  0.502079  0.567242  0.285880  0.366120 -0.025803    stable  \n",
       "9997 -1.975373  0.487838  0.986505  0.149286  0.145984 -0.031810    stable  \n",
       "9998 -0.898510  0.365246  0.587558  0.889118  0.818391  0.037789  unstable  \n",
       "9999 -0.570329  0.073056  0.505441  0.378761  0.942631  0.045263  unstable  "
      ]
     },
     "execution_count": 5,
     "metadata": {},
     "output_type": "execute_result"
    }
   ],
   "source": [
    "quiz_data.tail()"
   ]
  },
  {
   "cell_type": "code",
   "execution_count": 6,
   "id": "12c429f9",
   "metadata": {},
   "outputs": [
    {
     "data": {
      "text/plain": [
       "(10000, 14)"
      ]
     },
     "execution_count": 6,
     "metadata": {},
     "output_type": "execute_result"
    }
   ],
   "source": [
    "#To check the shape of the dataset\n",
    "quiz_data.shape"
   ]
  },
  {
   "cell_type": "code",
   "execution_count": 7,
   "id": "d95ed662",
   "metadata": {},
   "outputs": [
    {
     "data": {
      "text/html": [
       "<div>\n",
       "<style scoped>\n",
       "    .dataframe tbody tr th:only-of-type {\n",
       "        vertical-align: middle;\n",
       "    }\n",
       "\n",
       "    .dataframe tbody tr th {\n",
       "        vertical-align: top;\n",
       "    }\n",
       "\n",
       "    .dataframe thead th {\n",
       "        text-align: right;\n",
       "    }\n",
       "</style>\n",
       "<table border=\"1\" class=\"dataframe\">\n",
       "  <thead>\n",
       "    <tr style=\"text-align: right;\">\n",
       "      <th></th>\n",
       "      <th>tau1</th>\n",
       "      <th>tau2</th>\n",
       "      <th>tau3</th>\n",
       "      <th>tau4</th>\n",
       "      <th>p1</th>\n",
       "      <th>p2</th>\n",
       "      <th>p3</th>\n",
       "      <th>p4</th>\n",
       "      <th>g1</th>\n",
       "      <th>g2</th>\n",
       "      <th>g3</th>\n",
       "      <th>g4</th>\n",
       "      <th>stab</th>\n",
       "    </tr>\n",
       "  </thead>\n",
       "  <tbody>\n",
       "    <tr>\n",
       "      <th>count</th>\n",
       "      <td>10000.000000</td>\n",
       "      <td>10000.000000</td>\n",
       "      <td>10000.000000</td>\n",
       "      <td>10000.000000</td>\n",
       "      <td>10000.000000</td>\n",
       "      <td>10000.000000</td>\n",
       "      <td>10000.000000</td>\n",
       "      <td>10000.000000</td>\n",
       "      <td>10000.000000</td>\n",
       "      <td>10000.000000</td>\n",
       "      <td>10000.000000</td>\n",
       "      <td>10000.000000</td>\n",
       "      <td>10000.000000</td>\n",
       "    </tr>\n",
       "    <tr>\n",
       "      <th>mean</th>\n",
       "      <td>5.250000</td>\n",
       "      <td>5.250001</td>\n",
       "      <td>5.250004</td>\n",
       "      <td>5.249997</td>\n",
       "      <td>3.750000</td>\n",
       "      <td>-1.250000</td>\n",
       "      <td>-1.250000</td>\n",
       "      <td>-1.250000</td>\n",
       "      <td>0.525000</td>\n",
       "      <td>0.525000</td>\n",
       "      <td>0.525000</td>\n",
       "      <td>0.525000</td>\n",
       "      <td>0.015731</td>\n",
       "    </tr>\n",
       "    <tr>\n",
       "      <th>std</th>\n",
       "      <td>2.742548</td>\n",
       "      <td>2.742549</td>\n",
       "      <td>2.742549</td>\n",
       "      <td>2.742556</td>\n",
       "      <td>0.752160</td>\n",
       "      <td>0.433035</td>\n",
       "      <td>0.433035</td>\n",
       "      <td>0.433035</td>\n",
       "      <td>0.274256</td>\n",
       "      <td>0.274255</td>\n",
       "      <td>0.274255</td>\n",
       "      <td>0.274255</td>\n",
       "      <td>0.036919</td>\n",
       "    </tr>\n",
       "    <tr>\n",
       "      <th>min</th>\n",
       "      <td>0.500793</td>\n",
       "      <td>0.500141</td>\n",
       "      <td>0.500788</td>\n",
       "      <td>0.500473</td>\n",
       "      <td>1.582590</td>\n",
       "      <td>-1.999891</td>\n",
       "      <td>-1.999945</td>\n",
       "      <td>-1.999926</td>\n",
       "      <td>0.050009</td>\n",
       "      <td>0.050053</td>\n",
       "      <td>0.050054</td>\n",
       "      <td>0.050028</td>\n",
       "      <td>-0.080760</td>\n",
       "    </tr>\n",
       "    <tr>\n",
       "      <th>25%</th>\n",
       "      <td>2.874892</td>\n",
       "      <td>2.875140</td>\n",
       "      <td>2.875522</td>\n",
       "      <td>2.874950</td>\n",
       "      <td>3.218300</td>\n",
       "      <td>-1.624901</td>\n",
       "      <td>-1.625025</td>\n",
       "      <td>-1.624960</td>\n",
       "      <td>0.287521</td>\n",
       "      <td>0.287552</td>\n",
       "      <td>0.287514</td>\n",
       "      <td>0.287494</td>\n",
       "      <td>-0.015557</td>\n",
       "    </tr>\n",
       "    <tr>\n",
       "      <th>50%</th>\n",
       "      <td>5.250004</td>\n",
       "      <td>5.249981</td>\n",
       "      <td>5.249979</td>\n",
       "      <td>5.249734</td>\n",
       "      <td>3.751025</td>\n",
       "      <td>-1.249966</td>\n",
       "      <td>-1.249974</td>\n",
       "      <td>-1.250007</td>\n",
       "      <td>0.525009</td>\n",
       "      <td>0.525003</td>\n",
       "      <td>0.525015</td>\n",
       "      <td>0.525002</td>\n",
       "      <td>0.017142</td>\n",
       "    </tr>\n",
       "    <tr>\n",
       "      <th>75%</th>\n",
       "      <td>7.624690</td>\n",
       "      <td>7.624893</td>\n",
       "      <td>7.624948</td>\n",
       "      <td>7.624838</td>\n",
       "      <td>4.282420</td>\n",
       "      <td>-0.874977</td>\n",
       "      <td>-0.875043</td>\n",
       "      <td>-0.875065</td>\n",
       "      <td>0.762435</td>\n",
       "      <td>0.762490</td>\n",
       "      <td>0.762440</td>\n",
       "      <td>0.762433</td>\n",
       "      <td>0.044878</td>\n",
       "    </tr>\n",
       "    <tr>\n",
       "      <th>max</th>\n",
       "      <td>9.999469</td>\n",
       "      <td>9.999837</td>\n",
       "      <td>9.999450</td>\n",
       "      <td>9.999443</td>\n",
       "      <td>5.864418</td>\n",
       "      <td>-0.500108</td>\n",
       "      <td>-0.500072</td>\n",
       "      <td>-0.500025</td>\n",
       "      <td>0.999937</td>\n",
       "      <td>0.999944</td>\n",
       "      <td>0.999982</td>\n",
       "      <td>0.999930</td>\n",
       "      <td>0.109403</td>\n",
       "    </tr>\n",
       "  </tbody>\n",
       "</table>\n",
       "</div>"
      ],
      "text/plain": [
       "               tau1          tau2          tau3          tau4            p1  \\\n",
       "count  10000.000000  10000.000000  10000.000000  10000.000000  10000.000000   \n",
       "mean       5.250000      5.250001      5.250004      5.249997      3.750000   \n",
       "std        2.742548      2.742549      2.742549      2.742556      0.752160   \n",
       "min        0.500793      0.500141      0.500788      0.500473      1.582590   \n",
       "25%        2.874892      2.875140      2.875522      2.874950      3.218300   \n",
       "50%        5.250004      5.249981      5.249979      5.249734      3.751025   \n",
       "75%        7.624690      7.624893      7.624948      7.624838      4.282420   \n",
       "max        9.999469      9.999837      9.999450      9.999443      5.864418   \n",
       "\n",
       "                 p2            p3            p4            g1            g2  \\\n",
       "count  10000.000000  10000.000000  10000.000000  10000.000000  10000.000000   \n",
       "mean      -1.250000     -1.250000     -1.250000      0.525000      0.525000   \n",
       "std        0.433035      0.433035      0.433035      0.274256      0.274255   \n",
       "min       -1.999891     -1.999945     -1.999926      0.050009      0.050053   \n",
       "25%       -1.624901     -1.625025     -1.624960      0.287521      0.287552   \n",
       "50%       -1.249966     -1.249974     -1.250007      0.525009      0.525003   \n",
       "75%       -0.874977     -0.875043     -0.875065      0.762435      0.762490   \n",
       "max       -0.500108     -0.500072     -0.500025      0.999937      0.999944   \n",
       "\n",
       "                 g3            g4          stab  \n",
       "count  10000.000000  10000.000000  10000.000000  \n",
       "mean       0.525000      0.525000      0.015731  \n",
       "std        0.274255      0.274255      0.036919  \n",
       "min        0.050054      0.050028     -0.080760  \n",
       "25%        0.287514      0.287494     -0.015557  \n",
       "50%        0.525015      0.525002      0.017142  \n",
       "75%        0.762440      0.762433      0.044878  \n",
       "max        0.999982      0.999930      0.109403  "
      ]
     },
     "execution_count": 7,
     "metadata": {},
     "output_type": "execute_result"
    }
   ],
   "source": [
    "#To check for descriptive statistics in the dataset\n",
    "quiz_data.describe()"
   ]
  },
  {
   "cell_type": "code",
   "execution_count": 8,
   "id": "47f7b962",
   "metadata": {},
   "outputs": [
    {
     "data": {
      "text/plain": [
       "tau1     0\n",
       "tau2     0\n",
       "tau3     0\n",
       "tau4     0\n",
       "p1       0\n",
       "p2       0\n",
       "p3       0\n",
       "p4       0\n",
       "g1       0\n",
       "g2       0\n",
       "g3       0\n",
       "g4       0\n",
       "stab     0\n",
       "stabf    0\n",
       "dtype: int64"
      ]
     },
     "execution_count": 8,
     "metadata": {},
     "output_type": "execute_result"
    }
   ],
   "source": [
    "#checking for missing values\n",
    "quiz_data.isnull().sum()"
   ]
  },
  {
   "cell_type": "code",
   "execution_count": null,
   "id": "7e6fcf6f",
   "metadata": {},
   "outputs": [],
   "source": []
  },
  {
   "cell_type": "markdown",
   "id": "a594017e",
   "metadata": {},
   "source": [
    "*THERE ARE NO MISSING VALUES IN THE DATA SET*"
   ]
  },
  {
   "cell_type": "code",
   "execution_count": 9,
   "id": "9934c7a4",
   "metadata": {},
   "outputs": [
    {
     "name": "stdout",
     "output_type": "stream",
     "text": [
      "<class 'pandas.core.frame.DataFrame'>\n",
      "RangeIndex: 10000 entries, 0 to 9999\n",
      "Data columns (total 14 columns):\n",
      " #   Column  Non-Null Count  Dtype  \n",
      "---  ------  --------------  -----  \n",
      " 0   tau1    10000 non-null  float64\n",
      " 1   tau2    10000 non-null  float64\n",
      " 2   tau3    10000 non-null  float64\n",
      " 3   tau4    10000 non-null  float64\n",
      " 4   p1      10000 non-null  float64\n",
      " 5   p2      10000 non-null  float64\n",
      " 6   p3      10000 non-null  float64\n",
      " 7   p4      10000 non-null  float64\n",
      " 8   g1      10000 non-null  float64\n",
      " 9   g2      10000 non-null  float64\n",
      " 10  g3      10000 non-null  float64\n",
      " 11  g4      10000 non-null  float64\n",
      " 12  stab    10000 non-null  float64\n",
      " 13  stabf   10000 non-null  object \n",
      "dtypes: float64(13), object(1)\n",
      "memory usage: 1.1+ MB\n"
     ]
    }
   ],
   "source": [
    "#To check the info of the dataset\n",
    "quiz_data.info()"
   ]
  },
  {
   "cell_type": "markdown",
   "id": "42fe97da",
   "metadata": {},
   "source": [
    "*The dataset contains **two target variables**. However, both target variables have the same attributes;hence we will drop one **(stab)** and focus on the other **(stabf)** as the main target variable*\n",
    "\n"
   ]
  },
  {
   "cell_type": "code",
   "execution_count": 10,
   "id": "684bfb75",
   "metadata": {},
   "outputs": [],
   "source": [
    "# Dropping the stab \n",
    "\n",
    "new_quiz_data = quiz_data.drop('stab', axis=1)"
   ]
  },
  {
   "cell_type": "code",
   "execution_count": 11,
   "id": "126f4729",
   "metadata": {},
   "outputs": [
    {
     "data": {
      "text/html": [
       "<div>\n",
       "<style scoped>\n",
       "    .dataframe tbody tr th:only-of-type {\n",
       "        vertical-align: middle;\n",
       "    }\n",
       "\n",
       "    .dataframe tbody tr th {\n",
       "        vertical-align: top;\n",
       "    }\n",
       "\n",
       "    .dataframe thead th {\n",
       "        text-align: right;\n",
       "    }\n",
       "</style>\n",
       "<table border=\"1\" class=\"dataframe\">\n",
       "  <thead>\n",
       "    <tr style=\"text-align: right;\">\n",
       "      <th></th>\n",
       "      <th>tau1</th>\n",
       "      <th>tau2</th>\n",
       "      <th>tau3</th>\n",
       "      <th>tau4</th>\n",
       "      <th>p1</th>\n",
       "      <th>p2</th>\n",
       "      <th>p3</th>\n",
       "      <th>p4</th>\n",
       "      <th>g1</th>\n",
       "      <th>g2</th>\n",
       "      <th>g3</th>\n",
       "      <th>g4</th>\n",
       "      <th>stabf</th>\n",
       "    </tr>\n",
       "  </thead>\n",
       "  <tbody>\n",
       "    <tr>\n",
       "      <th>0</th>\n",
       "      <td>2.959060</td>\n",
       "      <td>3.079885</td>\n",
       "      <td>8.381025</td>\n",
       "      <td>9.780754</td>\n",
       "      <td>3.763085</td>\n",
       "      <td>-0.782604</td>\n",
       "      <td>-1.257395</td>\n",
       "      <td>-1.723086</td>\n",
       "      <td>0.650456</td>\n",
       "      <td>0.859578</td>\n",
       "      <td>0.887445</td>\n",
       "      <td>0.958034</td>\n",
       "      <td>unstable</td>\n",
       "    </tr>\n",
       "    <tr>\n",
       "      <th>1</th>\n",
       "      <td>9.304097</td>\n",
       "      <td>4.902524</td>\n",
       "      <td>3.047541</td>\n",
       "      <td>1.369357</td>\n",
       "      <td>5.067812</td>\n",
       "      <td>-1.940058</td>\n",
       "      <td>-1.872742</td>\n",
       "      <td>-1.255012</td>\n",
       "      <td>0.413441</td>\n",
       "      <td>0.862414</td>\n",
       "      <td>0.562139</td>\n",
       "      <td>0.781760</td>\n",
       "      <td>stable</td>\n",
       "    </tr>\n",
       "    <tr>\n",
       "      <th>2</th>\n",
       "      <td>8.971707</td>\n",
       "      <td>8.848428</td>\n",
       "      <td>3.046479</td>\n",
       "      <td>1.214518</td>\n",
       "      <td>3.405158</td>\n",
       "      <td>-1.207456</td>\n",
       "      <td>-1.277210</td>\n",
       "      <td>-0.920492</td>\n",
       "      <td>0.163041</td>\n",
       "      <td>0.766689</td>\n",
       "      <td>0.839444</td>\n",
       "      <td>0.109853</td>\n",
       "      <td>unstable</td>\n",
       "    </tr>\n",
       "    <tr>\n",
       "      <th>3</th>\n",
       "      <td>0.716415</td>\n",
       "      <td>7.669600</td>\n",
       "      <td>4.486641</td>\n",
       "      <td>2.340563</td>\n",
       "      <td>3.963791</td>\n",
       "      <td>-1.027473</td>\n",
       "      <td>-1.938944</td>\n",
       "      <td>-0.997374</td>\n",
       "      <td>0.446209</td>\n",
       "      <td>0.976744</td>\n",
       "      <td>0.929381</td>\n",
       "      <td>0.362718</td>\n",
       "      <td>unstable</td>\n",
       "    </tr>\n",
       "    <tr>\n",
       "      <th>4</th>\n",
       "      <td>3.134112</td>\n",
       "      <td>7.608772</td>\n",
       "      <td>4.943759</td>\n",
       "      <td>9.857573</td>\n",
       "      <td>3.525811</td>\n",
       "      <td>-1.125531</td>\n",
       "      <td>-1.845975</td>\n",
       "      <td>-0.554305</td>\n",
       "      <td>0.797110</td>\n",
       "      <td>0.455450</td>\n",
       "      <td>0.656947</td>\n",
       "      <td>0.820923</td>\n",
       "      <td>unstable</td>\n",
       "    </tr>\n",
       "  </tbody>\n",
       "</table>\n",
       "</div>"
      ],
      "text/plain": [
       "       tau1      tau2      tau3      tau4        p1        p2        p3  \\\n",
       "0  2.959060  3.079885  8.381025  9.780754  3.763085 -0.782604 -1.257395   \n",
       "1  9.304097  4.902524  3.047541  1.369357  5.067812 -1.940058 -1.872742   \n",
       "2  8.971707  8.848428  3.046479  1.214518  3.405158 -1.207456 -1.277210   \n",
       "3  0.716415  7.669600  4.486641  2.340563  3.963791 -1.027473 -1.938944   \n",
       "4  3.134112  7.608772  4.943759  9.857573  3.525811 -1.125531 -1.845975   \n",
       "\n",
       "         p4        g1        g2        g3        g4     stabf  \n",
       "0 -1.723086  0.650456  0.859578  0.887445  0.958034  unstable  \n",
       "1 -1.255012  0.413441  0.862414  0.562139  0.781760    stable  \n",
       "2 -0.920492  0.163041  0.766689  0.839444  0.109853  unstable  \n",
       "3 -0.997374  0.446209  0.976744  0.929381  0.362718  unstable  \n",
       "4 -0.554305  0.797110  0.455450  0.656947  0.820923  unstable  "
      ]
     },
     "execution_count": 11,
     "metadata": {},
     "output_type": "execute_result"
    }
   ],
   "source": [
    "# to display the first five rows of the new dataset\n",
    "new_quiz_data.head()"
   ]
  },
  {
   "cell_type": "code",
   "execution_count": 12,
   "id": "5624442f",
   "metadata": {},
   "outputs": [
    {
     "data": {
      "text/plain": [
       "unstable    6380\n",
       "stable      3620\n",
       "Name: stabf, dtype: int64"
      ]
     },
     "execution_count": 12,
     "metadata": {},
     "output_type": "execute_result"
    }
   ],
   "source": [
    "# checking the label distribution of the target varible\n",
    "\n",
    "new_quiz_data.stabf.value_counts()"
   ]
  },
  {
   "cell_type": "code",
   "execution_count": 13,
   "id": "a808be9a",
   "metadata": {},
   "outputs": [
    {
     "data": {
      "text/plain": [
       "Text(0.5, 0, 'Number of Occurence')"
      ]
     },
     "execution_count": 13,
     "metadata": {},
     "output_type": "execute_result"
    },
    {
     "data": {
      "image/png": "[encoded data removed]",
      "text/plain": [
       "<Figure size 432x288 with 1 Axes>"
      ]
     },
     "metadata": {
      "needs_background": "light"
     },
     "output_type": "display_data"
    }
   ],
   "source": [
    "# Plotting the bar chart for each category distribution\n",
    "\n",
    "fig = new_quiz_data.stabf.value_counts().plot.hist()\n",
    "fig.set_title('Stable Vs Unstable')\n",
    "fig.set_xlabel('Number of Occurence')"
   ]
  },
  {
   "cell_type": "code",
   "execution_count": 14,
   "id": "fc70e52d",
   "metadata": {},
   "outputs": [
    {
     "data": {
      "image/png": "[encoded data removed]",
      "text/plain": [
       "<Figure size 1440x1080 with 12 Axes>"
      ]
     },
     "metadata": {
      "needs_background": "light"
     },
     "output_type": "display_data"
    }
   ],
   "source": [
    "# for plotting histogram for visualizations\n",
    "%matplotlib inline\n",
    "import matplotlib.pyplot as plt\n",
    "new_quiz_data.hist(bins=50,figsize=(20,15,))\n",
    "plt.show()"
   ]
  },
  {
   "cell_type": "code",
   "execution_count": 15,
   "id": "8ceb5dc6",
   "metadata": {},
   "outputs": [],
   "source": [
    "#Preparing the data for trainning and data cleaning\n",
    "#encoding the target variable using onehotencoder from sklearn\n",
    "from sklearn.preprocessing import LabelEncoder"
   ]
  },
  {
   "cell_type": "code",
   "execution_count": 16,
   "id": "bbbffc43",
   "metadata": {},
   "outputs": [],
   "source": [
    "# instanting the encoder \n",
    "\n",
    "encoder = LabelEncoder()"
   ]
  },
  {
   "cell_type": "code",
   "execution_count": 17,
   "id": "9f3e208b",
   "metadata": {},
   "outputs": [],
   "source": [
    "new_quiz_data.stabf = encoder.fit_transform(new_quiz_data.stabf)"
   ]
  },
  {
   "cell_type": "code",
   "execution_count": 18,
   "id": "399d46d5",
   "metadata": {},
   "outputs": [
    {
     "data": {
      "text/html": [
       "<div>\n",
       "<style scoped>\n",
       "    .dataframe tbody tr th:only-of-type {\n",
       "        vertical-align: middle;\n",
       "    }\n",
       "\n",
       "    .dataframe tbody tr th {\n",
       "        vertical-align: top;\n",
       "    }\n",
       "\n",
       "    .dataframe thead th {\n",
       "        text-align: right;\n",
       "    }\n",
       "</style>\n",
       "<table border=\"1\" class=\"dataframe\">\n",
       "  <thead>\n",
       "    <tr style=\"text-align: right;\">\n",
       "      <th></th>\n",
       "      <th>tau1</th>\n",
       "      <th>tau2</th>\n",
       "      <th>tau3</th>\n",
       "      <th>tau4</th>\n",
       "      <th>p1</th>\n",
       "      <th>p2</th>\n",
       "      <th>p3</th>\n",
       "      <th>p4</th>\n",
       "      <th>g1</th>\n",
       "      <th>g2</th>\n",
       "      <th>g3</th>\n",
       "      <th>g4</th>\n",
       "      <th>stabf</th>\n",
       "    </tr>\n",
       "  </thead>\n",
       "  <tbody>\n",
       "    <tr>\n",
       "      <th>0</th>\n",
       "      <td>2.959060</td>\n",
       "      <td>3.079885</td>\n",
       "      <td>8.381025</td>\n",
       "      <td>9.780754</td>\n",
       "      <td>3.763085</td>\n",
       "      <td>-0.782604</td>\n",
       "      <td>-1.257395</td>\n",
       "      <td>-1.723086</td>\n",
       "      <td>0.650456</td>\n",
       "      <td>0.859578</td>\n",
       "      <td>0.887445</td>\n",
       "      <td>0.958034</td>\n",
       "      <td>1</td>\n",
       "    </tr>\n",
       "    <tr>\n",
       "      <th>1</th>\n",
       "      <td>9.304097</td>\n",
       "      <td>4.902524</td>\n",
       "      <td>3.047541</td>\n",
       "      <td>1.369357</td>\n",
       "      <td>5.067812</td>\n",
       "      <td>-1.940058</td>\n",
       "      <td>-1.872742</td>\n",
       "      <td>-1.255012</td>\n",
       "      <td>0.413441</td>\n",
       "      <td>0.862414</td>\n",
       "      <td>0.562139</td>\n",
       "      <td>0.781760</td>\n",
       "      <td>0</td>\n",
       "    </tr>\n",
       "    <tr>\n",
       "      <th>2</th>\n",
       "      <td>8.971707</td>\n",
       "      <td>8.848428</td>\n",
       "      <td>3.046479</td>\n",
       "      <td>1.214518</td>\n",
       "      <td>3.405158</td>\n",
       "      <td>-1.207456</td>\n",
       "      <td>-1.277210</td>\n",
       "      <td>-0.920492</td>\n",
       "      <td>0.163041</td>\n",
       "      <td>0.766689</td>\n",
       "      <td>0.839444</td>\n",
       "      <td>0.109853</td>\n",
       "      <td>1</td>\n",
       "    </tr>\n",
       "    <tr>\n",
       "      <th>3</th>\n",
       "      <td>0.716415</td>\n",
       "      <td>7.669600</td>\n",
       "      <td>4.486641</td>\n",
       "      <td>2.340563</td>\n",
       "      <td>3.963791</td>\n",
       "      <td>-1.027473</td>\n",
       "      <td>-1.938944</td>\n",
       "      <td>-0.997374</td>\n",
       "      <td>0.446209</td>\n",
       "      <td>0.976744</td>\n",
       "      <td>0.929381</td>\n",
       "      <td>0.362718</td>\n",
       "      <td>1</td>\n",
       "    </tr>\n",
       "    <tr>\n",
       "      <th>4</th>\n",
       "      <td>3.134112</td>\n",
       "      <td>7.608772</td>\n",
       "      <td>4.943759</td>\n",
       "      <td>9.857573</td>\n",
       "      <td>3.525811</td>\n",
       "      <td>-1.125531</td>\n",
       "      <td>-1.845975</td>\n",
       "      <td>-0.554305</td>\n",
       "      <td>0.797110</td>\n",
       "      <td>0.455450</td>\n",
       "      <td>0.656947</td>\n",
       "      <td>0.820923</td>\n",
       "      <td>1</td>\n",
       "    </tr>\n",
       "    <tr>\n",
       "      <th>...</th>\n",
       "      <td>...</td>\n",
       "      <td>...</td>\n",
       "      <td>...</td>\n",
       "      <td>...</td>\n",
       "      <td>...</td>\n",
       "      <td>...</td>\n",
       "      <td>...</td>\n",
       "      <td>...</td>\n",
       "      <td>...</td>\n",
       "      <td>...</td>\n",
       "      <td>...</td>\n",
       "      <td>...</td>\n",
       "      <td>...</td>\n",
       "    </tr>\n",
       "    <tr>\n",
       "      <th>9995</th>\n",
       "      <td>2.930406</td>\n",
       "      <td>9.487627</td>\n",
       "      <td>2.376523</td>\n",
       "      <td>6.187797</td>\n",
       "      <td>3.343416</td>\n",
       "      <td>-0.658054</td>\n",
       "      <td>-1.449106</td>\n",
       "      <td>-1.236256</td>\n",
       "      <td>0.601709</td>\n",
       "      <td>0.779642</td>\n",
       "      <td>0.813512</td>\n",
       "      <td>0.608385</td>\n",
       "      <td>1</td>\n",
       "    </tr>\n",
       "    <tr>\n",
       "      <th>9996</th>\n",
       "      <td>3.392299</td>\n",
       "      <td>1.274827</td>\n",
       "      <td>2.954947</td>\n",
       "      <td>6.894759</td>\n",
       "      <td>4.349512</td>\n",
       "      <td>-1.663661</td>\n",
       "      <td>-0.952437</td>\n",
       "      <td>-1.733414</td>\n",
       "      <td>0.502079</td>\n",
       "      <td>0.567242</td>\n",
       "      <td>0.285880</td>\n",
       "      <td>0.366120</td>\n",
       "      <td>0</td>\n",
       "    </tr>\n",
       "    <tr>\n",
       "      <th>9997</th>\n",
       "      <td>2.364034</td>\n",
       "      <td>2.842030</td>\n",
       "      <td>8.776391</td>\n",
       "      <td>1.008906</td>\n",
       "      <td>4.299976</td>\n",
       "      <td>-1.380719</td>\n",
       "      <td>-0.943884</td>\n",
       "      <td>-1.975373</td>\n",
       "      <td>0.487838</td>\n",
       "      <td>0.986505</td>\n",
       "      <td>0.149286</td>\n",
       "      <td>0.145984</td>\n",
       "      <td>0</td>\n",
       "    </tr>\n",
       "    <tr>\n",
       "      <th>9998</th>\n",
       "      <td>9.631511</td>\n",
       "      <td>3.994398</td>\n",
       "      <td>2.757071</td>\n",
       "      <td>7.821347</td>\n",
       "      <td>2.514755</td>\n",
       "      <td>-0.966330</td>\n",
       "      <td>-0.649915</td>\n",
       "      <td>-0.898510</td>\n",
       "      <td>0.365246</td>\n",
       "      <td>0.587558</td>\n",
       "      <td>0.889118</td>\n",
       "      <td>0.818391</td>\n",
       "      <td>1</td>\n",
       "    </tr>\n",
       "    <tr>\n",
       "      <th>9999</th>\n",
       "      <td>6.530527</td>\n",
       "      <td>6.781790</td>\n",
       "      <td>4.349695</td>\n",
       "      <td>8.673138</td>\n",
       "      <td>3.492807</td>\n",
       "      <td>-1.390285</td>\n",
       "      <td>-1.532193</td>\n",
       "      <td>-0.570329</td>\n",
       "      <td>0.073056</td>\n",
       "      <td>0.505441</td>\n",
       "      <td>0.378761</td>\n",
       "      <td>0.942631</td>\n",
       "      <td>1</td>\n",
       "    </tr>\n",
       "  </tbody>\n",
       "</table>\n",
       "<p>10000 rows × 13 columns</p>\n",
       "</div>"
      ],
      "text/plain": [
       "          tau1      tau2      tau3      tau4        p1        p2        p3  \\\n",
       "0     2.959060  3.079885  8.381025  9.780754  3.763085 -0.782604 -1.257395   \n",
       "1     9.304097  4.902524  3.047541  1.369357  5.067812 -1.940058 -1.872742   \n",
       "2     8.971707  8.848428  3.046479  1.214518  3.405158 -1.207456 -1.277210   \n",
       "3     0.716415  7.669600  4.486641  2.340563  3.963791 -1.027473 -1.938944   \n",
       "4     3.134112  7.608772  4.943759  9.857573  3.525811 -1.125531 -1.845975   \n",
       "...        ...       ...       ...       ...       ...       ...       ...   \n",
       "9995  2.930406  9.487627  2.376523  6.187797  3.343416 -0.658054 -1.449106   \n",
       "9996  3.392299  1.274827  2.954947  6.894759  4.349512 -1.663661 -0.952437   \n",
       "9997  2.364034  2.842030  8.776391  1.008906  4.299976 -1.380719 -0.943884   \n",
       "9998  9.631511  3.994398  2.757071  7.821347  2.514755 -0.966330 -0.649915   \n",
       "9999  6.530527  6.781790  4.349695  8.673138  3.492807 -1.390285 -1.532193   \n",
       "\n",
       "            p4        g1        g2        g3        g4  stabf  \n",
       "0    -1.723086  0.650456  0.859578  0.887445  0.958034      1  \n",
       "1    -1.255012  0.413441  0.862414  0.562139  0.781760      0  \n",
       "2    -0.920492  0.163041  0.766689  0.839444  0.109853      1  \n",
       "3    -0.997374  0.446209  0.976744  0.929381  0.362718      1  \n",
       "4    -0.554305  0.797110  0.455450  0.656947  0.820923      1  \n",
       "...        ...       ...       ...       ...       ...    ...  \n",
       "9995 -1.236256  0.601709  0.779642  0.813512  0.608385      1  \n",
       "9996 -1.733414  0.502079  0.567242  0.285880  0.366120      0  \n",
       "9997 -1.975373  0.487838  0.986505  0.149286  0.145984      0  \n",
       "9998 -0.898510  0.365246  0.587558  0.889118  0.818391      1  \n",
       "9999 -0.570329  0.073056  0.505441  0.378761  0.942631      1  \n",
       "\n",
       "[10000 rows x 13 columns]"
      ]
     },
     "execution_count": 18,
     "metadata": {},
     "output_type": "execute_result"
    }
   ],
   "source": [
    "new_quiz_data"
   ]
  },
  {
   "cell_type": "code",
   "execution_count": 19,
   "id": "9f779b87",
   "metadata": {},
   "outputs": [
    {
     "data": {
      "text/plain": [
       "<AxesSubplot:>"
      ]
     },
     "execution_count": 19,
     "metadata": {},
     "output_type": "execute_result"
    },
    {
     "data": {
      "image/png": "[encoded data removed]",
      "text/plain": [
       "<Figure size 1080x504 with 2 Axes>"
      ]
     },
     "metadata": {
      "needs_background": "light"
     },
     "output_type": "display_data"
    }
   ],
   "source": [
    "#visualizing the data correlation to show the value of the matrix\n",
    "corr = new_quiz_data.corr()\n",
    "fig, ax = plt.subplots(figsize=(15,7))\n",
    "sns.heatmap(corr, annot=True, ax=ax, cmap = 'OrRd')"
   ]
  },
  {
   "cell_type": "code",
   "execution_count": 20,
   "id": "4c7df3f0",
   "metadata": {},
   "outputs": [],
   "source": [
    "# \n",
    "\n",
    "X = new_quiz_data.drop('stabf', axis=1)\n",
    "y = new_quiz_data['stabf']"
   ]
  },
  {
   "cell_type": "code",
   "execution_count": 21,
   "id": "279e38c5",
   "metadata": {},
   "outputs": [
    {
     "data": {
      "text/html": [
       "<div>\n",
       "<style scoped>\n",
       "    .dataframe tbody tr th:only-of-type {\n",
       "        vertical-align: middle;\n",
       "    }\n",
       "\n",
       "    .dataframe tbody tr th {\n",
       "        vertical-align: top;\n",
       "    }\n",
       "\n",
       "    .dataframe thead th {\n",
       "        text-align: right;\n",
       "    }\n",
       "</style>\n",
       "<table border=\"1\" class=\"dataframe\">\n",
       "  <thead>\n",
       "    <tr style=\"text-align: right;\">\n",
       "      <th></th>\n",
       "      <th>tau1</th>\n",
       "      <th>tau2</th>\n",
       "      <th>tau3</th>\n",
       "      <th>tau4</th>\n",
       "      <th>p1</th>\n",
       "      <th>p2</th>\n",
       "      <th>p3</th>\n",
       "      <th>p4</th>\n",
       "      <th>g1</th>\n",
       "      <th>g2</th>\n",
       "      <th>g3</th>\n",
       "      <th>g4</th>\n",
       "    </tr>\n",
       "  </thead>\n",
       "  <tbody>\n",
       "    <tr>\n",
       "      <th>0</th>\n",
       "      <td>2.959060</td>\n",
       "      <td>3.079885</td>\n",
       "      <td>8.381025</td>\n",
       "      <td>9.780754</td>\n",
       "      <td>3.763085</td>\n",
       "      <td>-0.782604</td>\n",
       "      <td>-1.257395</td>\n",
       "      <td>-1.723086</td>\n",
       "      <td>0.650456</td>\n",
       "      <td>0.859578</td>\n",
       "      <td>0.887445</td>\n",
       "      <td>0.958034</td>\n",
       "    </tr>\n",
       "    <tr>\n",
       "      <th>1</th>\n",
       "      <td>9.304097</td>\n",
       "      <td>4.902524</td>\n",
       "      <td>3.047541</td>\n",
       "      <td>1.369357</td>\n",
       "      <td>5.067812</td>\n",
       "      <td>-1.940058</td>\n",
       "      <td>-1.872742</td>\n",
       "      <td>-1.255012</td>\n",
       "      <td>0.413441</td>\n",
       "      <td>0.862414</td>\n",
       "      <td>0.562139</td>\n",
       "      <td>0.781760</td>\n",
       "    </tr>\n",
       "    <tr>\n",
       "      <th>2</th>\n",
       "      <td>8.971707</td>\n",
       "      <td>8.848428</td>\n",
       "      <td>3.046479</td>\n",
       "      <td>1.214518</td>\n",
       "      <td>3.405158</td>\n",
       "      <td>-1.207456</td>\n",
       "      <td>-1.277210</td>\n",
       "      <td>-0.920492</td>\n",
       "      <td>0.163041</td>\n",
       "      <td>0.766689</td>\n",
       "      <td>0.839444</td>\n",
       "      <td>0.109853</td>\n",
       "    </tr>\n",
       "    <tr>\n",
       "      <th>3</th>\n",
       "      <td>0.716415</td>\n",
       "      <td>7.669600</td>\n",
       "      <td>4.486641</td>\n",
       "      <td>2.340563</td>\n",
       "      <td>3.963791</td>\n",
       "      <td>-1.027473</td>\n",
       "      <td>-1.938944</td>\n",
       "      <td>-0.997374</td>\n",
       "      <td>0.446209</td>\n",
       "      <td>0.976744</td>\n",
       "      <td>0.929381</td>\n",
       "      <td>0.362718</td>\n",
       "    </tr>\n",
       "    <tr>\n",
       "      <th>4</th>\n",
       "      <td>3.134112</td>\n",
       "      <td>7.608772</td>\n",
       "      <td>4.943759</td>\n",
       "      <td>9.857573</td>\n",
       "      <td>3.525811</td>\n",
       "      <td>-1.125531</td>\n",
       "      <td>-1.845975</td>\n",
       "      <td>-0.554305</td>\n",
       "      <td>0.797110</td>\n",
       "      <td>0.455450</td>\n",
       "      <td>0.656947</td>\n",
       "      <td>0.820923</td>\n",
       "    </tr>\n",
       "    <tr>\n",
       "      <th>...</th>\n",
       "      <td>...</td>\n",
       "      <td>...</td>\n",
       "      <td>...</td>\n",
       "      <td>...</td>\n",
       "      <td>...</td>\n",
       "      <td>...</td>\n",
       "      <td>...</td>\n",
       "      <td>...</td>\n",
       "      <td>...</td>\n",
       "      <td>...</td>\n",
       "      <td>...</td>\n",
       "      <td>...</td>\n",
       "    </tr>\n",
       "    <tr>\n",
       "      <th>9995</th>\n",
       "      <td>2.930406</td>\n",
       "      <td>9.487627</td>\n",
       "      <td>2.376523</td>\n",
       "      <td>6.187797</td>\n",
       "      <td>3.343416</td>\n",
       "      <td>-0.658054</td>\n",
       "      <td>-1.449106</td>\n",
       "      <td>-1.236256</td>\n",
       "      <td>0.601709</td>\n",
       "      <td>0.779642</td>\n",
       "      <td>0.813512</td>\n",
       "      <td>0.608385</td>\n",
       "    </tr>\n",
       "    <tr>\n",
       "      <th>9996</th>\n",
       "      <td>3.392299</td>\n",
       "      <td>1.274827</td>\n",
       "      <td>2.954947</td>\n",
       "      <td>6.894759</td>\n",
       "      <td>4.349512</td>\n",
       "      <td>-1.663661</td>\n",
       "      <td>-0.952437</td>\n",
       "      <td>-1.733414</td>\n",
       "      <td>0.502079</td>\n",
       "      <td>0.567242</td>\n",
       "      <td>0.285880</td>\n",
       "      <td>0.366120</td>\n",
       "    </tr>\n",
       "    <tr>\n",
       "      <th>9997</th>\n",
       "      <td>2.364034</td>\n",
       "      <td>2.842030</td>\n",
       "      <td>8.776391</td>\n",
       "      <td>1.008906</td>\n",
       "      <td>4.299976</td>\n",
       "      <td>-1.380719</td>\n",
       "      <td>-0.943884</td>\n",
       "      <td>-1.975373</td>\n",
       "      <td>0.487838</td>\n",
       "      <td>0.986505</td>\n",
       "      <td>0.149286</td>\n",
       "      <td>0.145984</td>\n",
       "    </tr>\n",
       "    <tr>\n",
       "      <th>9998</th>\n",
       "      <td>9.631511</td>\n",
       "      <td>3.994398</td>\n",
       "      <td>2.757071</td>\n",
       "      <td>7.821347</td>\n",
       "      <td>2.514755</td>\n",
       "      <td>-0.966330</td>\n",
       "      <td>-0.649915</td>\n",
       "      <td>-0.898510</td>\n",
       "      <td>0.365246</td>\n",
       "      <td>0.587558</td>\n",
       "      <td>0.889118</td>\n",
       "      <td>0.818391</td>\n",
       "    </tr>\n",
       "    <tr>\n",
       "      <th>9999</th>\n",
       "      <td>6.530527</td>\n",
       "      <td>6.781790</td>\n",
       "      <td>4.349695</td>\n",
       "      <td>8.673138</td>\n",
       "      <td>3.492807</td>\n",
       "      <td>-1.390285</td>\n",
       "      <td>-1.532193</td>\n",
       "      <td>-0.570329</td>\n",
       "      <td>0.073056</td>\n",
       "      <td>0.505441</td>\n",
       "      <td>0.378761</td>\n",
       "      <td>0.942631</td>\n",
       "    </tr>\n",
       "  </tbody>\n",
       "</table>\n",
       "<p>10000 rows × 12 columns</p>\n",
       "</div>"
      ],
      "text/plain": [
       "          tau1      tau2      tau3      tau4        p1        p2        p3  \\\n",
       "0     2.959060  3.079885  8.381025  9.780754  3.763085 -0.782604 -1.257395   \n",
       "1     9.304097  4.902524  3.047541  1.369357  5.067812 -1.940058 -1.872742   \n",
       "2     8.971707  8.848428  3.046479  1.214518  3.405158 -1.207456 -1.277210   \n",
       "3     0.716415  7.669600  4.486641  2.340563  3.963791 -1.027473 -1.938944   \n",
       "4     3.134112  7.608772  4.943759  9.857573  3.525811 -1.125531 -1.845975   \n",
       "...        ...       ...       ...       ...       ...       ...       ...   \n",
       "9995  2.930406  9.487627  2.376523  6.187797  3.343416 -0.658054 -1.449106   \n",
       "9996  3.392299  1.274827  2.954947  6.894759  4.349512 -1.663661 -0.952437   \n",
       "9997  2.364034  2.842030  8.776391  1.008906  4.299976 -1.380719 -0.943884   \n",
       "9998  9.631511  3.994398  2.757071  7.821347  2.514755 -0.966330 -0.649915   \n",
       "9999  6.530527  6.781790  4.349695  8.673138  3.492807 -1.390285 -1.532193   \n",
       "\n",
       "            p4        g1        g2        g3        g4  \n",
       "0    -1.723086  0.650456  0.859578  0.887445  0.958034  \n",
       "1    -1.255012  0.413441  0.862414  0.562139  0.781760  \n",
       "2    -0.920492  0.163041  0.766689  0.839444  0.109853  \n",
       "3    -0.997374  0.446209  0.976744  0.929381  0.362718  \n",
       "4    -0.554305  0.797110  0.455450  0.656947  0.820923  \n",
       "...        ...       ...       ...       ...       ...  \n",
       "9995 -1.236256  0.601709  0.779642  0.813512  0.608385  \n",
       "9996 -1.733414  0.502079  0.567242  0.285880  0.366120  \n",
       "9997 -1.975373  0.487838  0.986505  0.149286  0.145984  \n",
       "9998 -0.898510  0.365246  0.587558  0.889118  0.818391  \n",
       "9999 -0.570329  0.073056  0.505441  0.378761  0.942631  \n",
       "\n",
       "[10000 rows x 12 columns]"
      ]
     },
     "execution_count": 21,
     "metadata": {},
     "output_type": "execute_result"
    }
   ],
   "source": [
    "X"
   ]
  },
  {
   "cell_type": "code",
   "execution_count": 22,
   "id": "20ad48fd",
   "metadata": {},
   "outputs": [
    {
     "data": {
      "text/plain": [
       "0       1\n",
       "1       0\n",
       "2       1\n",
       "3       1\n",
       "4       1\n",
       "       ..\n",
       "9995    1\n",
       "9996    0\n",
       "9997    0\n",
       "9998    1\n",
       "9999    1\n",
       "Name: stabf, Length: 10000, dtype: int32"
      ]
     },
     "execution_count": 22,
     "metadata": {},
     "output_type": "execute_result"
    }
   ],
   "source": [
    "y"
   ]
  },
  {
   "cell_type": "code",
   "execution_count": 23,
   "id": "93952d43",
   "metadata": {},
   "outputs": [],
   "source": [
    "# splitting the data to training and testing data set\n",
    "\n",
    "from sklearn.model_selection import train_test_split\n",
    "\n",
    "X_train, X_test, y_train, y_test = train_test_split(X, y,\n",
    "                                                   test_size=0.2,\n",
    "                                                   random_state=1)"
   ]
  },
  {
   "cell_type": "code",
   "execution_count": 24,
   "id": "a44a29cb",
   "metadata": {},
   "outputs": [
    {
     "data": {
      "text/html": [
       "<div>\n",
       "<style scoped>\n",
       "    .dataframe tbody tr th:only-of-type {\n",
       "        vertical-align: middle;\n",
       "    }\n",
       "\n",
       "    .dataframe tbody tr th {\n",
       "        vertical-align: top;\n",
       "    }\n",
       "\n",
       "    .dataframe thead th {\n",
       "        text-align: right;\n",
       "    }\n",
       "</style>\n",
       "<table border=\"1\" class=\"dataframe\">\n",
       "  <thead>\n",
       "    <tr style=\"text-align: right;\">\n",
       "      <th></th>\n",
       "      <th>tau1</th>\n",
       "      <th>tau2</th>\n",
       "      <th>tau3</th>\n",
       "      <th>tau4</th>\n",
       "      <th>p1</th>\n",
       "      <th>p2</th>\n",
       "      <th>p3</th>\n",
       "      <th>p4</th>\n",
       "      <th>g1</th>\n",
       "      <th>g2</th>\n",
       "      <th>g3</th>\n",
       "      <th>g4</th>\n",
       "    </tr>\n",
       "  </thead>\n",
       "  <tbody>\n",
       "    <tr>\n",
       "      <th>2694</th>\n",
       "      <td>6.255995</td>\n",
       "      <td>2.542401</td>\n",
       "      <td>7.024714</td>\n",
       "      <td>9.476518</td>\n",
       "      <td>3.529888</td>\n",
       "      <td>-1.224881</td>\n",
       "      <td>-0.688228</td>\n",
       "      <td>-1.616780</td>\n",
       "      <td>0.568221</td>\n",
       "      <td>0.618403</td>\n",
       "      <td>0.685739</td>\n",
       "      <td>0.660088</td>\n",
       "    </tr>\n",
       "    <tr>\n",
       "      <th>5140</th>\n",
       "      <td>5.070581</td>\n",
       "      <td>5.490253</td>\n",
       "      <td>8.075688</td>\n",
       "      <td>0.761075</td>\n",
       "      <td>4.220888</td>\n",
       "      <td>-1.280596</td>\n",
       "      <td>-1.902185</td>\n",
       "      <td>-1.038107</td>\n",
       "      <td>0.443515</td>\n",
       "      <td>0.097244</td>\n",
       "      <td>0.916955</td>\n",
       "      <td>0.129254</td>\n",
       "    </tr>\n",
       "    <tr>\n",
       "      <th>2568</th>\n",
       "      <td>1.220072</td>\n",
       "      <td>8.804028</td>\n",
       "      <td>3.874283</td>\n",
       "      <td>8.433949</td>\n",
       "      <td>3.614027</td>\n",
       "      <td>-1.039236</td>\n",
       "      <td>-0.953566</td>\n",
       "      <td>-1.621224</td>\n",
       "      <td>0.908353</td>\n",
       "      <td>0.923594</td>\n",
       "      <td>0.238881</td>\n",
       "      <td>0.660156</td>\n",
       "    </tr>\n",
       "    <tr>\n",
       "      <th>3671</th>\n",
       "      <td>7.498402</td>\n",
       "      <td>6.697603</td>\n",
       "      <td>8.798626</td>\n",
       "      <td>2.126236</td>\n",
       "      <td>3.134585</td>\n",
       "      <td>-1.581906</td>\n",
       "      <td>-0.589386</td>\n",
       "      <td>-0.963293</td>\n",
       "      <td>0.260826</td>\n",
       "      <td>0.899003</td>\n",
       "      <td>0.964752</td>\n",
       "      <td>0.600598</td>\n",
       "    </tr>\n",
       "    <tr>\n",
       "      <th>7427</th>\n",
       "      <td>7.074006</td>\n",
       "      <td>1.337511</td>\n",
       "      <td>6.100756</td>\n",
       "      <td>7.759156</td>\n",
       "      <td>2.526922</td>\n",
       "      <td>-0.922540</td>\n",
       "      <td>-0.632600</td>\n",
       "      <td>-0.971782</td>\n",
       "      <td>0.984580</td>\n",
       "      <td>0.716082</td>\n",
       "      <td>0.836928</td>\n",
       "      <td>0.165162</td>\n",
       "    </tr>\n",
       "    <tr>\n",
       "      <th>...</th>\n",
       "      <td>...</td>\n",
       "      <td>...</td>\n",
       "      <td>...</td>\n",
       "      <td>...</td>\n",
       "      <td>...</td>\n",
       "      <td>...</td>\n",
       "      <td>...</td>\n",
       "      <td>...</td>\n",
       "      <td>...</td>\n",
       "      <td>...</td>\n",
       "      <td>...</td>\n",
       "      <td>...</td>\n",
       "    </tr>\n",
       "    <tr>\n",
       "      <th>2895</th>\n",
       "      <td>9.504984</td>\n",
       "      <td>5.265415</td>\n",
       "      <td>2.029617</td>\n",
       "      <td>8.026334</td>\n",
       "      <td>3.449756</td>\n",
       "      <td>-0.922754</td>\n",
       "      <td>-1.526305</td>\n",
       "      <td>-1.000696</td>\n",
       "      <td>0.191864</td>\n",
       "      <td>0.611297</td>\n",
       "      <td>0.080008</td>\n",
       "      <td>0.350312</td>\n",
       "    </tr>\n",
       "    <tr>\n",
       "      <th>7813</th>\n",
       "      <td>8.035818</td>\n",
       "      <td>4.632548</td>\n",
       "      <td>1.177810</td>\n",
       "      <td>1.204950</td>\n",
       "      <td>4.093208</td>\n",
       "      <td>-1.568218</td>\n",
       "      <td>-0.819966</td>\n",
       "      <td>-1.705024</td>\n",
       "      <td>0.223384</td>\n",
       "      <td>0.317770</td>\n",
       "      <td>0.726623</td>\n",
       "      <td>0.441620</td>\n",
       "    </tr>\n",
       "    <tr>\n",
       "      <th>905</th>\n",
       "      <td>7.052560</td>\n",
       "      <td>3.264057</td>\n",
       "      <td>1.405949</td>\n",
       "      <td>4.497549</td>\n",
       "      <td>3.741358</td>\n",
       "      <td>-0.629026</td>\n",
       "      <td>-1.407945</td>\n",
       "      <td>-1.704387</td>\n",
       "      <td>0.868306</td>\n",
       "      <td>0.605566</td>\n",
       "      <td>0.100591</td>\n",
       "      <td>0.747320</td>\n",
       "    </tr>\n",
       "    <tr>\n",
       "      <th>5192</th>\n",
       "      <td>5.085242</td>\n",
       "      <td>1.790031</td>\n",
       "      <td>2.486392</td>\n",
       "      <td>2.848192</td>\n",
       "      <td>3.159670</td>\n",
       "      <td>-0.892898</td>\n",
       "      <td>-1.025461</td>\n",
       "      <td>-1.241311</td>\n",
       "      <td>0.473917</td>\n",
       "      <td>0.418512</td>\n",
       "      <td>0.326253</td>\n",
       "      <td>0.982488</td>\n",
       "    </tr>\n",
       "    <tr>\n",
       "      <th>235</th>\n",
       "      <td>1.205354</td>\n",
       "      <td>6.995045</td>\n",
       "      <td>5.930860</td>\n",
       "      <td>2.523856</td>\n",
       "      <td>5.230127</td>\n",
       "      <td>-1.755047</td>\n",
       "      <td>-1.567927</td>\n",
       "      <td>-1.907153</td>\n",
       "      <td>0.861961</td>\n",
       "      <td>0.202768</td>\n",
       "      <td>0.848373</td>\n",
       "      <td>0.739993</td>\n",
       "    </tr>\n",
       "  </tbody>\n",
       "</table>\n",
       "<p>8000 rows × 12 columns</p>\n",
       "</div>"
      ],
      "text/plain": [
       "          tau1      tau2      tau3      tau4        p1        p2        p3  \\\n",
       "2694  6.255995  2.542401  7.024714  9.476518  3.529888 -1.224881 -0.688228   \n",
       "5140  5.070581  5.490253  8.075688  0.761075  4.220888 -1.280596 -1.902185   \n",
       "2568  1.220072  8.804028  3.874283  8.433949  3.614027 -1.039236 -0.953566   \n",
       "3671  7.498402  6.697603  8.798626  2.126236  3.134585 -1.581906 -0.589386   \n",
       "7427  7.074006  1.337511  6.100756  7.759156  2.526922 -0.922540 -0.632600   \n",
       "...        ...       ...       ...       ...       ...       ...       ...   \n",
       "2895  9.504984  5.265415  2.029617  8.026334  3.449756 -0.922754 -1.526305   \n",
       "7813  8.035818  4.632548  1.177810  1.204950  4.093208 -1.568218 -0.819966   \n",
       "905   7.052560  3.264057  1.405949  4.497549  3.741358 -0.629026 -1.407945   \n",
       "5192  5.085242  1.790031  2.486392  2.848192  3.159670 -0.892898 -1.025461   \n",
       "235   1.205354  6.995045  5.930860  2.523856  5.230127 -1.755047 -1.567927   \n",
       "\n",
       "            p4        g1        g2        g3        g4  \n",
       "2694 -1.616780  0.568221  0.618403  0.685739  0.660088  \n",
       "5140 -1.038107  0.443515  0.097244  0.916955  0.129254  \n",
       "2568 -1.621224  0.908353  0.923594  0.238881  0.660156  \n",
       "3671 -0.963293  0.260826  0.899003  0.964752  0.600598  \n",
       "7427 -0.971782  0.984580  0.716082  0.836928  0.165162  \n",
       "...        ...       ...       ...       ...       ...  \n",
       "2895 -1.000696  0.191864  0.611297  0.080008  0.350312  \n",
       "7813 -1.705024  0.223384  0.317770  0.726623  0.441620  \n",
       "905  -1.704387  0.868306  0.605566  0.100591  0.747320  \n",
       "5192 -1.241311  0.473917  0.418512  0.326253  0.982488  \n",
       "235  -1.907153  0.861961  0.202768  0.848373  0.739993  \n",
       "\n",
       "[8000 rows x 12 columns]"
      ]
     },
     "execution_count": 24,
     "metadata": {},
     "output_type": "execute_result"
    }
   ],
   "source": [
    "X_train"
   ]
  },
  {
   "cell_type": "code",
   "execution_count": 25,
   "id": "f7e661c5",
   "metadata": {},
   "outputs": [
    {
     "data": {
      "text/html": [
       "<div>\n",
       "<style scoped>\n",
       "    .dataframe tbody tr th:only-of-type {\n",
       "        vertical-align: middle;\n",
       "    }\n",
       "\n",
       "    .dataframe tbody tr th {\n",
       "        vertical-align: top;\n",
       "    }\n",
       "\n",
       "    .dataframe thead th {\n",
       "        text-align: right;\n",
       "    }\n",
       "</style>\n",
       "<table border=\"1\" class=\"dataframe\">\n",
       "  <thead>\n",
       "    <tr style=\"text-align: right;\">\n",
       "      <th></th>\n",
       "      <th>tau1</th>\n",
       "      <th>tau2</th>\n",
       "      <th>tau3</th>\n",
       "      <th>tau4</th>\n",
       "      <th>p1</th>\n",
       "      <th>p2</th>\n",
       "      <th>p3</th>\n",
       "      <th>p4</th>\n",
       "      <th>g1</th>\n",
       "      <th>g2</th>\n",
       "      <th>g3</th>\n",
       "      <th>g4</th>\n",
       "    </tr>\n",
       "  </thead>\n",
       "  <tbody>\n",
       "    <tr>\n",
       "      <th>9953</th>\n",
       "      <td>6.877876</td>\n",
       "      <td>4.113820</td>\n",
       "      <td>9.356768</td>\n",
       "      <td>8.299753</td>\n",
       "      <td>4.056779</td>\n",
       "      <td>-1.897470</td>\n",
       "      <td>-1.590581</td>\n",
       "      <td>-0.568728</td>\n",
       "      <td>0.276567</td>\n",
       "      <td>0.845536</td>\n",
       "      <td>0.112440</td>\n",
       "      <td>0.822562</td>\n",
       "    </tr>\n",
       "    <tr>\n",
       "      <th>3850</th>\n",
       "      <td>5.802841</td>\n",
       "      <td>6.271371</td>\n",
       "      <td>4.731540</td>\n",
       "      <td>3.819867</td>\n",
       "      <td>3.579569</td>\n",
       "      <td>-1.709480</td>\n",
       "      <td>-1.067511</td>\n",
       "      <td>-0.802579</td>\n",
       "      <td>0.077527</td>\n",
       "      <td>0.416478</td>\n",
       "      <td>0.912846</td>\n",
       "      <td>0.861306</td>\n",
       "    </tr>\n",
       "    <tr>\n",
       "      <th>4962</th>\n",
       "      <td>2.286998</td>\n",
       "      <td>4.385142</td>\n",
       "      <td>2.830232</td>\n",
       "      <td>5.293880</td>\n",
       "      <td>3.035814</td>\n",
       "      <td>-1.202764</td>\n",
       "      <td>-0.902011</td>\n",
       "      <td>-0.931039</td>\n",
       "      <td>0.924216</td>\n",
       "      <td>0.130186</td>\n",
       "      <td>0.703887</td>\n",
       "      <td>0.063811</td>\n",
       "    </tr>\n",
       "    <tr>\n",
       "      <th>3886</th>\n",
       "      <td>5.019920</td>\n",
       "      <td>2.209962</td>\n",
       "      <td>6.266080</td>\n",
       "      <td>0.578901</td>\n",
       "      <td>4.322584</td>\n",
       "      <td>-1.960207</td>\n",
       "      <td>-1.074561</td>\n",
       "      <td>-1.287815</td>\n",
       "      <td>0.546910</td>\n",
       "      <td>0.065992</td>\n",
       "      <td>0.427349</td>\n",
       "      <td>0.814648</td>\n",
       "    </tr>\n",
       "    <tr>\n",
       "      <th>5437</th>\n",
       "      <td>7.646145</td>\n",
       "      <td>9.187896</td>\n",
       "      <td>5.484219</td>\n",
       "      <td>9.934313</td>\n",
       "      <td>3.634226</td>\n",
       "      <td>-1.254541</td>\n",
       "      <td>-1.335366</td>\n",
       "      <td>-1.044319</td>\n",
       "      <td>0.561528</td>\n",
       "      <td>0.121611</td>\n",
       "      <td>0.787318</td>\n",
       "      <td>0.300314</td>\n",
       "    </tr>\n",
       "    <tr>\n",
       "      <th>...</th>\n",
       "      <td>...</td>\n",
       "      <td>...</td>\n",
       "      <td>...</td>\n",
       "      <td>...</td>\n",
       "      <td>...</td>\n",
       "      <td>...</td>\n",
       "      <td>...</td>\n",
       "      <td>...</td>\n",
       "      <td>...</td>\n",
       "      <td>...</td>\n",
       "      <td>...</td>\n",
       "      <td>...</td>\n",
       "    </tr>\n",
       "    <tr>\n",
       "      <th>3919</th>\n",
       "      <td>8.320531</td>\n",
       "      <td>3.394352</td>\n",
       "      <td>1.468729</td>\n",
       "      <td>8.766874</td>\n",
       "      <td>3.940123</td>\n",
       "      <td>-1.599081</td>\n",
       "      <td>-0.931023</td>\n",
       "      <td>-1.410020</td>\n",
       "      <td>0.657445</td>\n",
       "      <td>0.493384</td>\n",
       "      <td>0.178907</td>\n",
       "      <td>0.173240</td>\n",
       "    </tr>\n",
       "    <tr>\n",
       "      <th>162</th>\n",
       "      <td>2.290102</td>\n",
       "      <td>3.028512</td>\n",
       "      <td>8.071234</td>\n",
       "      <td>6.169944</td>\n",
       "      <td>3.624592</td>\n",
       "      <td>-1.104003</td>\n",
       "      <td>-0.820951</td>\n",
       "      <td>-1.699638</td>\n",
       "      <td>0.785595</td>\n",
       "      <td>0.770194</td>\n",
       "      <td>0.234290</td>\n",
       "      <td>0.225070</td>\n",
       "    </tr>\n",
       "    <tr>\n",
       "      <th>7903</th>\n",
       "      <td>7.848945</td>\n",
       "      <td>0.684889</td>\n",
       "      <td>0.728223</td>\n",
       "      <td>6.702948</td>\n",
       "      <td>2.599685</td>\n",
       "      <td>-0.563497</td>\n",
       "      <td>-1.210069</td>\n",
       "      <td>-0.826119</td>\n",
       "      <td>0.185122</td>\n",
       "      <td>0.559799</td>\n",
       "      <td>0.682418</td>\n",
       "      <td>0.886902</td>\n",
       "    </tr>\n",
       "    <tr>\n",
       "      <th>2242</th>\n",
       "      <td>2.173967</td>\n",
       "      <td>5.776797</td>\n",
       "      <td>4.597638</td>\n",
       "      <td>6.399330</td>\n",
       "      <td>2.869349</td>\n",
       "      <td>-0.931891</td>\n",
       "      <td>-1.237955</td>\n",
       "      <td>-0.699503</td>\n",
       "      <td>0.942680</td>\n",
       "      <td>0.743103</td>\n",
       "      <td>0.152161</td>\n",
       "      <td>0.305183</td>\n",
       "    </tr>\n",
       "    <tr>\n",
       "      <th>2745</th>\n",
       "      <td>1.467618</td>\n",
       "      <td>9.389085</td>\n",
       "      <td>6.019740</td>\n",
       "      <td>9.376247</td>\n",
       "      <td>4.242404</td>\n",
       "      <td>-1.894794</td>\n",
       "      <td>-1.589085</td>\n",
       "      <td>-0.758525</td>\n",
       "      <td>0.659519</td>\n",
       "      <td>0.273217</td>\n",
       "      <td>0.526145</td>\n",
       "      <td>0.851163</td>\n",
       "    </tr>\n",
       "  </tbody>\n",
       "</table>\n",
       "<p>2000 rows × 12 columns</p>\n",
       "</div>"
      ],
      "text/plain": [
       "          tau1      tau2      tau3      tau4        p1        p2        p3  \\\n",
       "9953  6.877876  4.113820  9.356768  8.299753  4.056779 -1.897470 -1.590581   \n",
       "3850  5.802841  6.271371  4.731540  3.819867  3.579569 -1.709480 -1.067511   \n",
       "4962  2.286998  4.385142  2.830232  5.293880  3.035814 -1.202764 -0.902011   \n",
       "3886  5.019920  2.209962  6.266080  0.578901  4.322584 -1.960207 -1.074561   \n",
       "5437  7.646145  9.187896  5.484219  9.934313  3.634226 -1.254541 -1.335366   \n",
       "...        ...       ...       ...       ...       ...       ...       ...   \n",
       "3919  8.320531  3.394352  1.468729  8.766874  3.940123 -1.599081 -0.931023   \n",
       "162   2.290102  3.028512  8.071234  6.169944  3.624592 -1.104003 -0.820951   \n",
       "7903  7.848945  0.684889  0.728223  6.702948  2.599685 -0.563497 -1.210069   \n",
       "2242  2.173967  5.776797  4.597638  6.399330  2.869349 -0.931891 -1.237955   \n",
       "2745  1.467618  9.389085  6.019740  9.376247  4.242404 -1.894794 -1.589085   \n",
       "\n",
       "            p4        g1        g2        g3        g4  \n",
       "9953 -0.568728  0.276567  0.845536  0.112440  0.822562  \n",
       "3850 -0.802579  0.077527  0.416478  0.912846  0.861306  \n",
       "4962 -0.931039  0.924216  0.130186  0.703887  0.063811  \n",
       "3886 -1.287815  0.546910  0.065992  0.427349  0.814648  \n",
       "5437 -1.044319  0.561528  0.121611  0.787318  0.300314  \n",
       "...        ...       ...       ...       ...       ...  \n",
       "3919 -1.410020  0.657445  0.493384  0.178907  0.173240  \n",
       "162  -1.699638  0.785595  0.770194  0.234290  0.225070  \n",
       "7903 -0.826119  0.185122  0.559799  0.682418  0.886902  \n",
       "2242 -0.699503  0.942680  0.743103  0.152161  0.305183  \n",
       "2745 -0.758525  0.659519  0.273217  0.526145  0.851163  \n",
       "\n",
       "[2000 rows x 12 columns]"
      ]
     },
     "execution_count": 25,
     "metadata": {},
     "output_type": "execute_result"
    }
   ],
   "source": [
    "X_test"
   ]
  },
  {
   "cell_type": "code",
   "execution_count": 26,
   "id": "b38c820f",
   "metadata": {},
   "outputs": [
    {
     "data": {
      "text/plain": [
       "1    5092\n",
       "0    2908\n",
       "Name: stabf, dtype: int64"
      ]
     },
     "execution_count": 26,
     "metadata": {},
     "output_type": "execute_result"
    }
   ],
   "source": [
    "# checking the target distribution of the y_train\n",
    "\n",
    "y_train.value_counts()"
   ]
  },
  {
   "cell_type": "markdown",
   "id": "34547d7e",
   "metadata": {},
   "source": [
    "This shows an imbalance in the target variable. We will handle this by over sampling the fewer class to overwrite this imbalance"
   ]
  },
  {
   "cell_type": "code",
   "execution_count": 27,
   "id": "f8c83d41",
   "metadata": {},
   "outputs": [
    {
     "data": {
      "text/plain": [
       "1    1288\n",
       "0     712\n",
       "Name: stabf, dtype: int64"
      ]
     },
     "execution_count": 27,
     "metadata": {},
     "output_type": "execute_result"
    }
   ],
   "source": [
    "# checking the target distribution of the y_test\n",
    "\n",
    "y_test.value_counts()"
   ]
  },
  {
   "cell_type": "code",
   "execution_count": 28,
   "id": "95dc692e",
   "metadata": {},
   "outputs": [],
   "source": [
    "import imblearn\n",
    "from imblearn.over_sampling import SMOTE"
   ]
  },
  {
   "cell_type": "code",
   "execution_count": 29,
   "id": "f79fd9d0",
   "metadata": {},
   "outputs": [],
   "source": [
    "# instantiating the smote \n",
    "\n",
    "oversample = SMOTE(random_state=1)"
   ]
  },
  {
   "cell_type": "code",
   "execution_count": 30,
   "id": "4185488f",
   "metadata": {},
   "outputs": [],
   "source": [
    "# fitting and balancing the distributions of the labels\n",
    "\n",
    "X_train_balanced, y_balanced = oversample.fit_resample(X_train, y_train)"
   ]
  },
  {
   "cell_type": "code",
   "execution_count": 31,
   "id": "b5b3c395",
   "metadata": {},
   "outputs": [
    {
     "data": {
      "text/plain": [
       "1    5092\n",
       "0    5092\n",
       "Name: stabf, dtype: int64"
      ]
     },
     "execution_count": 31,
     "metadata": {},
     "output_type": "execute_result"
    }
   ],
   "source": [
    "y_balanced.value_counts()"
   ]
  },
  {
   "cell_type": "code",
   "execution_count": 32,
   "id": "ca5712d2",
   "metadata": {},
   "outputs": [
    {
     "data": {
      "text/plain": [
       "0     1\n",
       "1     1\n",
       "2     1\n",
       "3     1\n",
       "4     1\n",
       "5     0\n",
       "6     1\n",
       "7     0\n",
       "8     1\n",
       "9     1\n",
       "10    1\n",
       "11    0\n",
       "12    0\n",
       "13    0\n",
       "14    0\n",
       "15    0\n",
       "16    1\n",
       "17    1\n",
       "18    0\n",
       "19    1\n",
       "Name: stabf, dtype: int32"
      ]
     },
     "execution_count": 32,
     "metadata": {},
     "output_type": "execute_result"
    }
   ],
   "source": [
    "y_balanced.head(20)"
   ]
  },
  {
   "cell_type": "code",
   "execution_count": 33,
   "id": "0e501f9a",
   "metadata": {},
   "outputs": [],
   "source": [
    "#standardizing both the training and testing dataset of the predictor variables\n",
    "from sklearn.preprocessing import StandardScaler"
   ]
  },
  {
   "cell_type": "code",
   "execution_count": 34,
   "id": "ac1197b1",
   "metadata": {},
   "outputs": [],
   "source": [
    "# instantiating the scaler \n",
    "\n",
    "scaler = StandardScaler()"
   ]
  },
  {
   "cell_type": "code",
   "execution_count": 35,
   "id": "de9694cb",
   "metadata": {},
   "outputs": [],
   "source": [
    "stand_x_train = scaler.fit_transform(X_train_balanced)"
   ]
  },
  {
   "cell_type": "code",
   "execution_count": 36,
   "id": "6db5fc8a",
   "metadata": {},
   "outputs": [
    {
     "data": {
      "text/html": [
       "<div>\n",
       "<style scoped>\n",
       "    .dataframe tbody tr th:only-of-type {\n",
       "        vertical-align: middle;\n",
       "    }\n",
       "\n",
       "    .dataframe tbody tr th {\n",
       "        vertical-align: top;\n",
       "    }\n",
       "\n",
       "    .dataframe thead th {\n",
       "        text-align: right;\n",
       "    }\n",
       "</style>\n",
       "<table border=\"1\" class=\"dataframe\">\n",
       "  <thead>\n",
       "    <tr style=\"text-align: right;\">\n",
       "      <th></th>\n",
       "      <th>tau1</th>\n",
       "      <th>tau2</th>\n",
       "      <th>tau3</th>\n",
       "      <th>tau4</th>\n",
       "      <th>p1</th>\n",
       "      <th>p2</th>\n",
       "      <th>p3</th>\n",
       "      <th>p4</th>\n",
       "      <th>g1</th>\n",
       "      <th>g2</th>\n",
       "      <th>g3</th>\n",
       "      <th>g4</th>\n",
       "    </tr>\n",
       "  </thead>\n",
       "  <tbody>\n",
       "    <tr>\n",
       "      <th>0</th>\n",
       "      <td>0.431352</td>\n",
       "      <td>-0.906078</td>\n",
       "      <td>0.709472</td>\n",
       "      <td>1.601487</td>\n",
       "      <td>-0.299634</td>\n",
       "      <td>0.070986</td>\n",
       "      <td>1.327370</td>\n",
       "      <td>-0.875325</td>\n",
       "      <td>0.227072</td>\n",
       "      <td>0.416592</td>\n",
       "      <td>0.675795</td>\n",
       "      <td>0.567770</td>\n",
       "    </tr>\n",
       "    <tr>\n",
       "      <th>1</th>\n",
       "      <td>0.007043</td>\n",
       "      <td>0.151748</td>\n",
       "      <td>1.089400</td>\n",
       "      <td>-1.545174</td>\n",
       "      <td>0.636265</td>\n",
       "      <td>-0.061013</td>\n",
       "      <td>-1.541948</td>\n",
       "      <td>0.492481</td>\n",
       "      <td>-0.241282</td>\n",
       "      <td>-1.540004</td>\n",
       "      <td>1.547891</td>\n",
       "      <td>-1.427980</td>\n",
       "    </tr>\n",
       "    <tr>\n",
       "      <th>2</th>\n",
       "      <td>-1.371213</td>\n",
       "      <td>1.340884</td>\n",
       "      <td>-0.429412</td>\n",
       "      <td>1.225073</td>\n",
       "      <td>-0.185676</td>\n",
       "      <td>0.510814</td>\n",
       "      <td>0.700214</td>\n",
       "      <td>-0.885831</td>\n",
       "      <td>1.504487</td>\n",
       "      <td>1.562377</td>\n",
       "      <td>-1.009660</td>\n",
       "      <td>0.568027</td>\n",
       "    </tr>\n",
       "    <tr>\n",
       "      <th>3</th>\n",
       "      <td>0.876060</td>\n",
       "      <td>0.585001</td>\n",
       "      <td>1.350743</td>\n",
       "      <td>-1.052290</td>\n",
       "      <td>-0.835039</td>\n",
       "      <td>-0.774873</td>\n",
       "      <td>1.560992</td>\n",
       "      <td>0.669318</td>\n",
       "      <td>-0.927397</td>\n",
       "      <td>1.470053</td>\n",
       "      <td>1.728175</td>\n",
       "      <td>0.344110</td>\n",
       "    </tr>\n",
       "    <tr>\n",
       "      <th>4</th>\n",
       "      <td>0.724152</td>\n",
       "      <td>-1.338448</td>\n",
       "      <td>0.375461</td>\n",
       "      <td>0.981443</td>\n",
       "      <td>-1.658064</td>\n",
       "      <td>0.787290</td>\n",
       "      <td>1.458851</td>\n",
       "      <td>0.649251</td>\n",
       "      <td>1.790768</td>\n",
       "      <td>0.783310</td>\n",
       "      <td>1.246050</td>\n",
       "      <td>-1.292976</td>\n",
       "    </tr>\n",
       "    <tr>\n",
       "      <th>...</th>\n",
       "      <td>...</td>\n",
       "      <td>...</td>\n",
       "      <td>...</td>\n",
       "      <td>...</td>\n",
       "      <td>...</td>\n",
       "      <td>...</td>\n",
       "      <td>...</td>\n",
       "      <td>...</td>\n",
       "      <td>...</td>\n",
       "      <td>...</td>\n",
       "      <td>...</td>\n",
       "      <td>...</td>\n",
       "    </tr>\n",
       "    <tr>\n",
       "      <th>10179</th>\n",
       "      <td>-0.373458</td>\n",
       "      <td>-1.117658</td>\n",
       "      <td>0.568207</td>\n",
       "      <td>-1.519188</td>\n",
       "      <td>-1.076505</td>\n",
       "      <td>0.785933</td>\n",
       "      <td>-0.001746</td>\n",
       "      <td>1.096330</td>\n",
       "      <td>-0.584156</td>\n",
       "      <td>-0.276447</td>\n",
       "      <td>0.041123</td>\n",
       "      <td>0.826954</td>\n",
       "    </tr>\n",
       "    <tr>\n",
       "      <th>10180</th>\n",
       "      <td>-1.451654</td>\n",
       "      <td>-0.835561</td>\n",
       "      <td>1.222408</td>\n",
       "      <td>1.185053</td>\n",
       "      <td>-1.326430</td>\n",
       "      <td>1.205379</td>\n",
       "      <td>-0.164007</td>\n",
       "      <td>1.276288</td>\n",
       "      <td>1.477809</td>\n",
       "      <td>-0.539330</td>\n",
       "      <td>-0.581280</td>\n",
       "      <td>-1.108805</td>\n",
       "    </tr>\n",
       "    <tr>\n",
       "      <th>10181</th>\n",
       "      <td>-0.010422</td>\n",
       "      <td>-1.306042</td>\n",
       "      <td>-1.527579</td>\n",
       "      <td>-0.549530</td>\n",
       "      <td>-1.359934</td>\n",
       "      <td>0.040556</td>\n",
       "      <td>1.035499</td>\n",
       "      <td>1.297329</td>\n",
       "      <td>0.663560</td>\n",
       "      <td>-0.452264</td>\n",
       "      <td>0.166377</td>\n",
       "      <td>-1.489641</td>\n",
       "    </tr>\n",
       "    <tr>\n",
       "      <th>10182</th>\n",
       "      <td>-0.267590</td>\n",
       "      <td>-1.382194</td>\n",
       "      <td>-1.213566</td>\n",
       "      <td>1.501028</td>\n",
       "      <td>0.403488</td>\n",
       "      <td>0.774435</td>\n",
       "      <td>-1.716730</td>\n",
       "      <td>0.239997</td>\n",
       "      <td>-0.882891</td>\n",
       "      <td>-0.033430</td>\n",
       "      <td>-1.215899</td>\n",
       "      <td>1.243240</td>\n",
       "    </tr>\n",
       "    <tr>\n",
       "      <th>10183</th>\n",
       "      <td>0.095843</td>\n",
       "      <td>0.865503</td>\n",
       "      <td>-1.079934</td>\n",
       "      <td>-1.127616</td>\n",
       "      <td>0.709278</td>\n",
       "      <td>0.327297</td>\n",
       "      <td>-1.233119</td>\n",
       "      <td>-0.331191</td>\n",
       "      <td>0.092335</td>\n",
       "      <td>-0.301713</td>\n",
       "      <td>0.205425</td>\n",
       "      <td>0.107636</td>\n",
       "    </tr>\n",
       "  </tbody>\n",
       "</table>\n",
       "<p>10184 rows × 12 columns</p>\n",
       "</div>"
      ],
      "text/plain": [
       "           tau1      tau2      tau3      tau4        p1        p2        p3  \\\n",
       "0      0.431352 -0.906078  0.709472  1.601487 -0.299634  0.070986  1.327370   \n",
       "1      0.007043  0.151748  1.089400 -1.545174  0.636265 -0.061013 -1.541948   \n",
       "2     -1.371213  1.340884 -0.429412  1.225073 -0.185676  0.510814  0.700214   \n",
       "3      0.876060  0.585001  1.350743 -1.052290 -0.835039 -0.774873  1.560992   \n",
       "4      0.724152 -1.338448  0.375461  0.981443 -1.658064  0.787290  1.458851   \n",
       "...         ...       ...       ...       ...       ...       ...       ...   \n",
       "10179 -0.373458 -1.117658  0.568207 -1.519188 -1.076505  0.785933 -0.001746   \n",
       "10180 -1.451654 -0.835561  1.222408  1.185053 -1.326430  1.205379 -0.164007   \n",
       "10181 -0.010422 -1.306042 -1.527579 -0.549530 -1.359934  0.040556  1.035499   \n",
       "10182 -0.267590 -1.382194 -1.213566  1.501028  0.403488  0.774435 -1.716730   \n",
       "10183  0.095843  0.865503 -1.079934 -1.127616  0.709278  0.327297 -1.233119   \n",
       "\n",
       "             p4        g1        g2        g3        g4  \n",
       "0     -0.875325  0.227072  0.416592  0.675795  0.567770  \n",
       "1      0.492481 -0.241282 -1.540004  1.547891 -1.427980  \n",
       "2     -0.885831  1.504487  1.562377 -1.009660  0.568027  \n",
       "3      0.669318 -0.927397  1.470053  1.728175  0.344110  \n",
       "4      0.649251  1.790768  0.783310  1.246050 -1.292976  \n",
       "...         ...       ...       ...       ...       ...  \n",
       "10179  1.096330 -0.584156 -0.276447  0.041123  0.826954  \n",
       "10180  1.276288  1.477809 -0.539330 -0.581280 -1.108805  \n",
       "10181  1.297329  0.663560 -0.452264  0.166377 -1.489641  \n",
       "10182  0.239997 -0.882891 -0.033430 -1.215899  1.243240  \n",
       "10183 -0.331191  0.092335 -0.301713  0.205425  0.107636  \n",
       "\n",
       "[10184 rows x 12 columns]"
      ]
     },
     "execution_count": 36,
     "metadata": {},
     "output_type": "execute_result"
    }
   ],
   "source": [
    "# making a dataframe for the standardised data\n",
    "\n",
    "X_train_df = pd.DataFrame(stand_x_train,\n",
    "                          columns=X_train_balanced.columns)\n",
    "\n",
    "X_train_df"
   ]
  },
  {
   "cell_type": "markdown",
   "id": "8e5659e9",
   "metadata": {},
   "source": [
    "*X_train dataset is standardized*"
   ]
  },
  {
   "cell_type": "code",
   "execution_count": 37,
   "id": "96d94f13",
   "metadata": {},
   "outputs": [
    {
     "data": {
      "text/html": [
       "<div>\n",
       "<style scoped>\n",
       "    .dataframe tbody tr th:only-of-type {\n",
       "        vertical-align: middle;\n",
       "    }\n",
       "\n",
       "    .dataframe tbody tr th {\n",
       "        vertical-align: top;\n",
       "    }\n",
       "\n",
       "    .dataframe thead th {\n",
       "        text-align: right;\n",
       "    }\n",
       "</style>\n",
       "<table border=\"1\" class=\"dataframe\">\n",
       "  <thead>\n",
       "    <tr style=\"text-align: right;\">\n",
       "      <th></th>\n",
       "      <th>tau1</th>\n",
       "      <th>tau2</th>\n",
       "      <th>tau3</th>\n",
       "      <th>tau4</th>\n",
       "      <th>p1</th>\n",
       "      <th>p2</th>\n",
       "      <th>p3</th>\n",
       "      <th>p4</th>\n",
       "      <th>g1</th>\n",
       "      <th>g2</th>\n",
       "      <th>g3</th>\n",
       "      <th>g4</th>\n",
       "    </tr>\n",
       "  </thead>\n",
       "  <tbody>\n",
       "    <tr>\n",
       "      <th>9953</th>\n",
       "      <td>6.877876</td>\n",
       "      <td>4.113820</td>\n",
       "      <td>9.356768</td>\n",
       "      <td>8.299753</td>\n",
       "      <td>4.056779</td>\n",
       "      <td>-1.897470</td>\n",
       "      <td>-1.590581</td>\n",
       "      <td>-0.568728</td>\n",
       "      <td>0.276567</td>\n",
       "      <td>0.845536</td>\n",
       "      <td>0.112440</td>\n",
       "      <td>0.822562</td>\n",
       "    </tr>\n",
       "    <tr>\n",
       "      <th>3850</th>\n",
       "      <td>5.802841</td>\n",
       "      <td>6.271371</td>\n",
       "      <td>4.731540</td>\n",
       "      <td>3.819867</td>\n",
       "      <td>3.579569</td>\n",
       "      <td>-1.709480</td>\n",
       "      <td>-1.067511</td>\n",
       "      <td>-0.802579</td>\n",
       "      <td>0.077527</td>\n",
       "      <td>0.416478</td>\n",
       "      <td>0.912846</td>\n",
       "      <td>0.861306</td>\n",
       "    </tr>\n",
       "    <tr>\n",
       "      <th>4962</th>\n",
       "      <td>2.286998</td>\n",
       "      <td>4.385142</td>\n",
       "      <td>2.830232</td>\n",
       "      <td>5.293880</td>\n",
       "      <td>3.035814</td>\n",
       "      <td>-1.202764</td>\n",
       "      <td>-0.902011</td>\n",
       "      <td>-0.931039</td>\n",
       "      <td>0.924216</td>\n",
       "      <td>0.130186</td>\n",
       "      <td>0.703887</td>\n",
       "      <td>0.063811</td>\n",
       "    </tr>\n",
       "    <tr>\n",
       "      <th>3886</th>\n",
       "      <td>5.019920</td>\n",
       "      <td>2.209962</td>\n",
       "      <td>6.266080</td>\n",
       "      <td>0.578901</td>\n",
       "      <td>4.322584</td>\n",
       "      <td>-1.960207</td>\n",
       "      <td>-1.074561</td>\n",
       "      <td>-1.287815</td>\n",
       "      <td>0.546910</td>\n",
       "      <td>0.065992</td>\n",
       "      <td>0.427349</td>\n",
       "      <td>0.814648</td>\n",
       "    </tr>\n",
       "    <tr>\n",
       "      <th>5437</th>\n",
       "      <td>7.646145</td>\n",
       "      <td>9.187896</td>\n",
       "      <td>5.484219</td>\n",
       "      <td>9.934313</td>\n",
       "      <td>3.634226</td>\n",
       "      <td>-1.254541</td>\n",
       "      <td>-1.335366</td>\n",
       "      <td>-1.044319</td>\n",
       "      <td>0.561528</td>\n",
       "      <td>0.121611</td>\n",
       "      <td>0.787318</td>\n",
       "      <td>0.300314</td>\n",
       "    </tr>\n",
       "    <tr>\n",
       "      <th>...</th>\n",
       "      <td>...</td>\n",
       "      <td>...</td>\n",
       "      <td>...</td>\n",
       "      <td>...</td>\n",
       "      <td>...</td>\n",
       "      <td>...</td>\n",
       "      <td>...</td>\n",
       "      <td>...</td>\n",
       "      <td>...</td>\n",
       "      <td>...</td>\n",
       "      <td>...</td>\n",
       "      <td>...</td>\n",
       "    </tr>\n",
       "    <tr>\n",
       "      <th>3919</th>\n",
       "      <td>8.320531</td>\n",
       "      <td>3.394352</td>\n",
       "      <td>1.468729</td>\n",
       "      <td>8.766874</td>\n",
       "      <td>3.940123</td>\n",
       "      <td>-1.599081</td>\n",
       "      <td>-0.931023</td>\n",
       "      <td>-1.410020</td>\n",
       "      <td>0.657445</td>\n",
       "      <td>0.493384</td>\n",
       "      <td>0.178907</td>\n",
       "      <td>0.173240</td>\n",
       "    </tr>\n",
       "    <tr>\n",
       "      <th>162</th>\n",
       "      <td>2.290102</td>\n",
       "      <td>3.028512</td>\n",
       "      <td>8.071234</td>\n",
       "      <td>6.169944</td>\n",
       "      <td>3.624592</td>\n",
       "      <td>-1.104003</td>\n",
       "      <td>-0.820951</td>\n",
       "      <td>-1.699638</td>\n",
       "      <td>0.785595</td>\n",
       "      <td>0.770194</td>\n",
       "      <td>0.234290</td>\n",
       "      <td>0.225070</td>\n",
       "    </tr>\n",
       "    <tr>\n",
       "      <th>7903</th>\n",
       "      <td>7.848945</td>\n",
       "      <td>0.684889</td>\n",
       "      <td>0.728223</td>\n",
       "      <td>6.702948</td>\n",
       "      <td>2.599685</td>\n",
       "      <td>-0.563497</td>\n",
       "      <td>-1.210069</td>\n",
       "      <td>-0.826119</td>\n",
       "      <td>0.185122</td>\n",
       "      <td>0.559799</td>\n",
       "      <td>0.682418</td>\n",
       "      <td>0.886902</td>\n",
       "    </tr>\n",
       "    <tr>\n",
       "      <th>2242</th>\n",
       "      <td>2.173967</td>\n",
       "      <td>5.776797</td>\n",
       "      <td>4.597638</td>\n",
       "      <td>6.399330</td>\n",
       "      <td>2.869349</td>\n",
       "      <td>-0.931891</td>\n",
       "      <td>-1.237955</td>\n",
       "      <td>-0.699503</td>\n",
       "      <td>0.942680</td>\n",
       "      <td>0.743103</td>\n",
       "      <td>0.152161</td>\n",
       "      <td>0.305183</td>\n",
       "    </tr>\n",
       "    <tr>\n",
       "      <th>2745</th>\n",
       "      <td>1.467618</td>\n",
       "      <td>9.389085</td>\n",
       "      <td>6.019740</td>\n",
       "      <td>9.376247</td>\n",
       "      <td>4.242404</td>\n",
       "      <td>-1.894794</td>\n",
       "      <td>-1.589085</td>\n",
       "      <td>-0.758525</td>\n",
       "      <td>0.659519</td>\n",
       "      <td>0.273217</td>\n",
       "      <td>0.526145</td>\n",
       "      <td>0.851163</td>\n",
       "    </tr>\n",
       "  </tbody>\n",
       "</table>\n",
       "<p>2000 rows × 12 columns</p>\n",
       "</div>"
      ],
      "text/plain": [
       "          tau1      tau2      tau3      tau4        p1        p2        p3  \\\n",
       "9953  6.877876  4.113820  9.356768  8.299753  4.056779 -1.897470 -1.590581   \n",
       "3850  5.802841  6.271371  4.731540  3.819867  3.579569 -1.709480 -1.067511   \n",
       "4962  2.286998  4.385142  2.830232  5.293880  3.035814 -1.202764 -0.902011   \n",
       "3886  5.019920  2.209962  6.266080  0.578901  4.322584 -1.960207 -1.074561   \n",
       "5437  7.646145  9.187896  5.484219  9.934313  3.634226 -1.254541 -1.335366   \n",
       "...        ...       ...       ...       ...       ...       ...       ...   \n",
       "3919  8.320531  3.394352  1.468729  8.766874  3.940123 -1.599081 -0.931023   \n",
       "162   2.290102  3.028512  8.071234  6.169944  3.624592 -1.104003 -0.820951   \n",
       "7903  7.848945  0.684889  0.728223  6.702948  2.599685 -0.563497 -1.210069   \n",
       "2242  2.173967  5.776797  4.597638  6.399330  2.869349 -0.931891 -1.237955   \n",
       "2745  1.467618  9.389085  6.019740  9.376247  4.242404 -1.894794 -1.589085   \n",
       "\n",
       "            p4        g1        g2        g3        g4  \n",
       "9953 -0.568728  0.276567  0.845536  0.112440  0.822562  \n",
       "3850 -0.802579  0.077527  0.416478  0.912846  0.861306  \n",
       "4962 -0.931039  0.924216  0.130186  0.703887  0.063811  \n",
       "3886 -1.287815  0.546910  0.065992  0.427349  0.814648  \n",
       "5437 -1.044319  0.561528  0.121611  0.787318  0.300314  \n",
       "...        ...       ...       ...       ...       ...  \n",
       "3919 -1.410020  0.657445  0.493384  0.178907  0.173240  \n",
       "162  -1.699638  0.785595  0.770194  0.234290  0.225070  \n",
       "7903 -0.826119  0.185122  0.559799  0.682418  0.886902  \n",
       "2242 -0.699503  0.942680  0.743103  0.152161  0.305183  \n",
       "2745 -0.758525  0.659519  0.273217  0.526145  0.851163  \n",
       "\n",
       "[2000 rows x 12 columns]"
      ]
     },
     "execution_count": 37,
     "metadata": {},
     "output_type": "execute_result"
    }
   ],
   "source": [
    "#Standardizing X_test dataset\n",
    "X_test"
   ]
  },
  {
   "cell_type": "code",
   "execution_count": 38,
   "id": "0ab38619",
   "metadata": {},
   "outputs": [],
   "source": [
    "stand_x_test = scaler.fit_transform(X_test)"
   ]
  },
  {
   "cell_type": "code",
   "execution_count": 39,
   "id": "5038181e",
   "metadata": {},
   "outputs": [
    {
     "data": {
      "text/html": [
       "<div>\n",
       "<style scoped>\n",
       "    .dataframe tbody tr th:only-of-type {\n",
       "        vertical-align: middle;\n",
       "    }\n",
       "\n",
       "    .dataframe tbody tr th {\n",
       "        vertical-align: top;\n",
       "    }\n",
       "\n",
       "    .dataframe thead th {\n",
       "        text-align: right;\n",
       "    }\n",
       "</style>\n",
       "<table border=\"1\" class=\"dataframe\">\n",
       "  <thead>\n",
       "    <tr style=\"text-align: right;\">\n",
       "      <th></th>\n",
       "      <th>tau1</th>\n",
       "      <th>tau2</th>\n",
       "      <th>tau3</th>\n",
       "      <th>tau4</th>\n",
       "      <th>p1</th>\n",
       "      <th>p2</th>\n",
       "      <th>p3</th>\n",
       "      <th>p4</th>\n",
       "      <th>g1</th>\n",
       "      <th>g2</th>\n",
       "      <th>g3</th>\n",
       "      <th>g4</th>\n",
       "    </tr>\n",
       "  </thead>\n",
       "  <tbody>\n",
       "    <tr>\n",
       "      <th>0</th>\n",
       "      <td>0.592163</td>\n",
       "      <td>-0.420565</td>\n",
       "      <td>1.472472</td>\n",
       "      <td>1.093036</td>\n",
       "      <td>0.426786</td>\n",
       "      <td>-1.504594</td>\n",
       "      <td>-0.792677</td>\n",
       "      <td>1.600201</td>\n",
       "      <td>-0.925703</td>\n",
       "      <td>1.175287</td>\n",
       "      <td>-1.492644</td>\n",
       "      <td>1.086291</td>\n",
       "    </tr>\n",
       "    <tr>\n",
       "      <th>1</th>\n",
       "      <td>0.199183</td>\n",
       "      <td>0.364543</td>\n",
       "      <td>-0.190076</td>\n",
       "      <td>-0.518473</td>\n",
       "      <td>-0.229402</td>\n",
       "      <td>-1.071766</td>\n",
       "      <td>0.427103</td>\n",
       "      <td>1.052337</td>\n",
       "      <td>-1.655910</td>\n",
       "      <td>-0.395949</td>\n",
       "      <td>1.412703</td>\n",
       "      <td>1.227535</td>\n",
       "    </tr>\n",
       "    <tr>\n",
       "      <th>2</th>\n",
       "      <td>-1.086035</td>\n",
       "      <td>-0.321834</td>\n",
       "      <td>-0.873505</td>\n",
       "      <td>0.011761</td>\n",
       "      <td>-0.977094</td>\n",
       "      <td>0.094896</td>\n",
       "      <td>0.813041</td>\n",
       "      <td>0.751381</td>\n",
       "      <td>1.450284</td>\n",
       "      <td>-1.444370</td>\n",
       "      <td>0.654216</td>\n",
       "      <td>-1.679799</td>\n",
       "    </tr>\n",
       "    <tr>\n",
       "      <th>3</th>\n",
       "      <td>-0.087014</td>\n",
       "      <td>-1.113357</td>\n",
       "      <td>0.361518</td>\n",
       "      <td>-1.684316</td>\n",
       "      <td>0.792280</td>\n",
       "      <td>-1.649041</td>\n",
       "      <td>0.410662</td>\n",
       "      <td>-0.084473</td>\n",
       "      <td>0.066085</td>\n",
       "      <td>-1.679450</td>\n",
       "      <td>-0.349573</td>\n",
       "      <td>1.057439</td>\n",
       "    </tr>\n",
       "    <tr>\n",
       "      <th>4</th>\n",
       "      <td>0.873004</td>\n",
       "      <td>1.425833</td>\n",
       "      <td>0.080476</td>\n",
       "      <td>1.681022</td>\n",
       "      <td>-0.154247</td>\n",
       "      <td>-0.024315</td>\n",
       "      <td>-0.197525</td>\n",
       "      <td>0.485988</td>\n",
       "      <td>0.119716</td>\n",
       "      <td>-1.475773</td>\n",
       "      <td>0.957057</td>\n",
       "      <td>-0.817608</td>\n",
       "    </tr>\n",
       "    <tr>\n",
       "      <th>...</th>\n",
       "      <td>...</td>\n",
       "      <td>...</td>\n",
       "      <td>...</td>\n",
       "      <td>...</td>\n",
       "      <td>...</td>\n",
       "      <td>...</td>\n",
       "      <td>...</td>\n",
       "      <td>...</td>\n",
       "      <td>...</td>\n",
       "      <td>...</td>\n",
       "      <td>...</td>\n",
       "      <td>...</td>\n",
       "    </tr>\n",
       "    <tr>\n",
       "      <th>1995</th>\n",
       "      <td>1.119526</td>\n",
       "      <td>-0.682371</td>\n",
       "      <td>-1.362900</td>\n",
       "      <td>1.261070</td>\n",
       "      <td>0.266377</td>\n",
       "      <td>-0.817583</td>\n",
       "      <td>0.745388</td>\n",
       "      <td>-0.370774</td>\n",
       "      <td>0.471600</td>\n",
       "      <td>-0.114316</td>\n",
       "      <td>-1.251379</td>\n",
       "      <td>-1.280864</td>\n",
       "    </tr>\n",
       "    <tr>\n",
       "      <th>1996</th>\n",
       "      <td>-1.084900</td>\n",
       "      <td>-0.815496</td>\n",
       "      <td>1.010385</td>\n",
       "      <td>0.326900</td>\n",
       "      <td>-0.167494</td>\n",
       "      <td>0.322284</td>\n",
       "      <td>1.002069</td>\n",
       "      <td>-1.049289</td>\n",
       "      <td>0.941736</td>\n",
       "      <td>0.899379</td>\n",
       "      <td>-1.050349</td>\n",
       "      <td>-1.091915</td>\n",
       "    </tr>\n",
       "    <tr>\n",
       "      <th>1997</th>\n",
       "      <td>0.947138</td>\n",
       "      <td>-1.668313</td>\n",
       "      <td>-1.629077</td>\n",
       "      <td>0.518632</td>\n",
       "      <td>-1.576793</td>\n",
       "      <td>1.566742</td>\n",
       "      <td>0.094662</td>\n",
       "      <td>0.997188</td>\n",
       "      <td>-1.261183</td>\n",
       "      <td>0.128899</td>\n",
       "      <td>0.576286</td>\n",
       "      <td>1.320848</td>\n",
       "    </tr>\n",
       "    <tr>\n",
       "      <th>1998</th>\n",
       "      <td>-1.127354</td>\n",
       "      <td>0.184573</td>\n",
       "      <td>-0.238207</td>\n",
       "      <td>0.409415</td>\n",
       "      <td>-1.205991</td>\n",
       "      <td>0.718553</td>\n",
       "      <td>0.029632</td>\n",
       "      <td>1.293823</td>\n",
       "      <td>1.518021</td>\n",
       "      <td>0.800172</td>\n",
       "      <td>-1.348463</td>\n",
       "      <td>-0.799858</td>\n",
       "    </tr>\n",
       "    <tr>\n",
       "      <th>1999</th>\n",
       "      <td>-1.385560</td>\n",
       "      <td>1.499043</td>\n",
       "      <td>0.272971</td>\n",
       "      <td>1.480274</td>\n",
       "      <td>0.682028</td>\n",
       "      <td>-1.498433</td>\n",
       "      <td>-0.789188</td>\n",
       "      <td>1.155547</td>\n",
       "      <td>0.479208</td>\n",
       "      <td>-0.920581</td>\n",
       "      <td>0.009039</td>\n",
       "      <td>1.190559</td>\n",
       "    </tr>\n",
       "  </tbody>\n",
       "</table>\n",
       "<p>2000 rows × 12 columns</p>\n",
       "</div>"
      ],
      "text/plain": [
       "          tau1      tau2      tau3      tau4        p1        p2        p3  \\\n",
       "0     0.592163 -0.420565  1.472472  1.093036  0.426786 -1.504594 -0.792677   \n",
       "1     0.199183  0.364543 -0.190076 -0.518473 -0.229402 -1.071766  0.427103   \n",
       "2    -1.086035 -0.321834 -0.873505  0.011761 -0.977094  0.094896  0.813041   \n",
       "3    -0.087014 -1.113357  0.361518 -1.684316  0.792280 -1.649041  0.410662   \n",
       "4     0.873004  1.425833  0.080476  1.681022 -0.154247 -0.024315 -0.197525   \n",
       "...        ...       ...       ...       ...       ...       ...       ...   \n",
       "1995  1.119526 -0.682371 -1.362900  1.261070  0.266377 -0.817583  0.745388   \n",
       "1996 -1.084900 -0.815496  1.010385  0.326900 -0.167494  0.322284  1.002069   \n",
       "1997  0.947138 -1.668313 -1.629077  0.518632 -1.576793  1.566742  0.094662   \n",
       "1998 -1.127354  0.184573 -0.238207  0.409415 -1.205991  0.718553  0.029632   \n",
       "1999 -1.385560  1.499043  0.272971  1.480274  0.682028 -1.498433 -0.789188   \n",
       "\n",
       "            p4        g1        g2        g3        g4  \n",
       "0     1.600201 -0.925703  1.175287 -1.492644  1.086291  \n",
       "1     1.052337 -1.655910 -0.395949  1.412703  1.227535  \n",
       "2     0.751381  1.450284 -1.444370  0.654216 -1.679799  \n",
       "3    -0.084473  0.066085 -1.679450 -0.349573  1.057439  \n",
       "4     0.485988  0.119716 -1.475773  0.957057 -0.817608  \n",
       "...        ...       ...       ...       ...       ...  \n",
       "1995 -0.370774  0.471600 -0.114316 -1.251379 -1.280864  \n",
       "1996 -1.049289  0.941736  0.899379 -1.050349 -1.091915  \n",
       "1997  0.997188 -1.261183  0.128899  0.576286  1.320848  \n",
       "1998  1.293823  1.518021  0.800172 -1.348463 -0.799858  \n",
       "1999  1.155547  0.479208 -0.920581  0.009039  1.190559  \n",
       "\n",
       "[2000 rows x 12 columns]"
      ]
     },
     "execution_count": 39,
     "metadata": {},
     "output_type": "execute_result"
    }
   ],
   "source": [
    "# making a dataframe for the standardised data\n",
    "\n",
    "X_test_df = pd.DataFrame(stand_x_test,\n",
    "                          columns=X_test.columns)\n",
    "\n",
    "X_test_df"
   ]
  },
  {
   "cell_type": "markdown",
   "id": "9f993307",
   "metadata": {},
   "source": [
    "**QUESTION 4**\n",
    "*What is the accuracy on the test set using the random forest classifier? In 4 decimal places.*"
   ]
  },
  {
   "cell_type": "markdown",
   "id": "df141904",
   "metadata": {},
   "source": [
    "*Trainning the model*, *Test the model* and *Evaluate the Model*"
   ]
  },
  {
   "cell_type": "code",
   "execution_count": 40,
   "id": "cc7479a4",
   "metadata": {},
   "outputs": [],
   "source": [
    "#Trainning the model\n",
    "# importing random forest classifier \n",
    "\n",
    "from sklearn.ensemble import RandomForestClassifier"
   ]
  },
  {
   "cell_type": "code",
   "execution_count": 41,
   "id": "08b12fbf",
   "metadata": {},
   "outputs": [],
   "source": [
    "# instantiating the model \n",
    "\n",
    "clf = RandomForestClassifier(random_state=1)"
   ]
  },
  {
   "cell_type": "code",
   "execution_count": 42,
   "id": "0fd032de",
   "metadata": {},
   "outputs": [
    {
     "data": {
      "text/plain": [
       "RandomForestClassifier(random_state=1)"
      ]
     },
     "execution_count": 42,
     "metadata": {},
     "output_type": "execute_result"
    }
   ],
   "source": [
    "# fitting the model with training dataset \n",
    "\n",
    "clf.fit(X_train_df, y_balanced)"
   ]
  },
  {
   "cell_type": "code",
   "execution_count": 43,
   "id": "4769d772",
   "metadata": {},
   "outputs": [],
   "source": [
    "#Testing the model\n",
    "# making predictions with trained model \n",
    "\n",
    "Ran_y_preds = clf.predict(X_test_df)"
   ]
  },
  {
   "cell_type": "code",
   "execution_count": 44,
   "id": "8b199740",
   "metadata": {},
   "outputs": [
    {
     "data": {
      "text/plain": [
       "array([1, 1, 0, ..., 0, 0, 1])"
      ]
     },
     "execution_count": 44,
     "metadata": {},
     "output_type": "execute_result"
    }
   ],
   "source": [
    "Ran_y_preds"
   ]
  },
  {
   "cell_type": "code",
   "execution_count": 45,
   "id": "51c8baf7",
   "metadata": {},
   "outputs": [
    {
     "data": {
      "text/plain": [
       "2000"
      ]
     },
     "execution_count": 45,
     "metadata": {},
     "output_type": "execute_result"
    }
   ],
   "source": [
    "len(Ran_y_preds)"
   ]
  },
  {
   "cell_type": "code",
   "execution_count": 46,
   "id": "ab415e5f",
   "metadata": {},
   "outputs": [],
   "source": [
    "#Evaluating the model\n",
    "# importing metrics from sklearn \n",
    "\n",
    "from sklearn.metrics import classification_report, accuracy_score, confusion_matrix"
   ]
  },
  {
   "cell_type": "code",
   "execution_count": 47,
   "id": "669a66d8",
   "metadata": {},
   "outputs": [
    {
     "name": "stdout",
     "output_type": "stream",
     "text": [
      "              precision    recall  f1-score   support\n",
      "\n",
      "           0       0.79      0.96      0.87       712\n",
      "           1       0.98      0.86      0.92      1288\n",
      "\n",
      "    accuracy                           0.90      2000\n",
      "   macro avg       0.88      0.91      0.89      2000\n",
      "weighted avg       0.91      0.90      0.90      2000\n",
      "\n"
     ]
    }
   ],
   "source": [
    "# printing the report on the model through classification_report \n",
    "\n",
    "\n",
    "print(classification_report(y_test, Ran_y_preds))"
   ]
  },
  {
   "cell_type": "code",
   "execution_count": 48,
   "id": "9b3c8ce9",
   "metadata": {},
   "outputs": [
    {
     "data": {
      "text/plain": [
       "array([[ 685,   27],\n",
       "       [ 179, 1109]], dtype=int64)"
      ]
     },
     "execution_count": 48,
     "metadata": {},
     "output_type": "execute_result"
    }
   ],
   "source": [
    "# for confusion matrix\n",
    "\n",
    "cm = confusion_matrix(y_test, Ran_y_preds)\n",
    "cm"
   ]
  },
  {
   "cell_type": "code",
   "execution_count": 49,
   "id": "47af0787",
   "metadata": {},
   "outputs": [
    {
     "data": {
      "text/plain": [
       "Text(0.5, 15.0, 'Ground Truth')"
      ]
     },
     "execution_count": 49,
     "metadata": {},
     "output_type": "execute_result"
    },
    {
     "data": {
      "image/png": "[encoded data removed]",
      "text/plain": [
       "<Figure size 432x288 with 1 Axes>"
      ]
     },
     "metadata": {
      "needs_background": "light"
     },
     "output_type": "display_data"
    }
   ],
   "source": [
    "sns.heatmap(cm, annot=True, fmt=\"d\", cbar = False)\n",
    "plt.ylabel(\"Predicted Values\")\n",
    "plt.xlabel(\"Ground Truth\")"
   ]
  },
  {
   "cell_type": "code",
   "execution_count": 50,
   "id": "e5d97219",
   "metadata": {},
   "outputs": [
    {
     "data": {
      "text/plain": [
       "0.897"
      ]
     },
     "execution_count": 50,
     "metadata": {},
     "output_type": "execute_result"
    }
   ],
   "source": [
    "# checking the accuracy score\n",
    "\n",
    "score = accuracy_score(y_test, Ran_y_preds)\n",
    "score"
   ]
  },
  {
   "cell_type": "markdown",
   "id": "572aaac8",
   "metadata": {},
   "source": [
    "*THE ACCURACY SCORE ON THE TEST SET IS 0.897*"
   ]
  },
  {
   "cell_type": "markdown",
   "id": "2b23e6f7",
   "metadata": {},
   "source": [
    "**Question 2:**\n",
    "*What is the accuracy on the test set using the LGBM classifier? In 4 decimal places.*"
   ]
  },
  {
   "cell_type": "code",
   "execution_count": 51,
   "id": "9ddba614",
   "metadata": {},
   "outputs": [],
   "source": [
    "#Training the model\n",
    "# Importing the model\n",
    "from lightgbm import LGBMClassifier"
   ]
  },
  {
   "cell_type": "code",
   "execution_count": 52,
   "id": "f8700404",
   "metadata": {},
   "outputs": [
    {
     "data": {
      "text/plain": [
       "LGBMClassifier(random_state=1)"
      ]
     },
     "execution_count": 52,
     "metadata": {},
     "output_type": "execute_result"
    }
   ],
   "source": [
    "# Instantiating the model\n",
    "\n",
    "light_model = LGBMClassifier(random_state=1)\n",
    "\n",
    "# fitting the model\n",
    "\n",
    "light_model.fit(X_train_df, y_balanced)"
   ]
  },
  {
   "cell_type": "code",
   "execution_count": 53,
   "id": "61cf0bce",
   "metadata": {},
   "outputs": [],
   "source": [
    "#Testing the model by checking the score of the fitted with trianed model \n",
    "from sklearn.model_selection import cross_val_score\n",
    "score = cross_val_score(light_model, \n",
    "                        X_train_df,\n",
    "                        y_balanced,\n",
    "                        scoring='accuracy',\n",
    "                       cv=5,\n",
    "                       n_jobs=-1)"
   ]
  },
  {
   "cell_type": "code",
   "execution_count": 54,
   "id": "b97cb9ab",
   "metadata": {},
   "outputs": [
    {
     "data": {
      "text/plain": [
       "array([0.940108  , 0.9455081 , 0.94207167, 0.97152676, 0.96856582])"
      ]
     },
     "execution_count": 54,
     "metadata": {},
     "output_type": "execute_result"
    }
   ],
   "source": [
    "score"
   ]
  },
  {
   "cell_type": "code",
   "execution_count": 55,
   "id": "0eb08a57",
   "metadata": {},
   "outputs": [
    {
     "data": {
      "text/plain": [
       "0.95"
      ]
     },
     "execution_count": 55,
     "metadata": {},
     "output_type": "execute_result"
    }
   ],
   "source": [
    "round(score.mean(), 2)"
   ]
  },
  {
   "cell_type": "code",
   "execution_count": 56,
   "id": "dba7b4cb",
   "metadata": {},
   "outputs": [],
   "source": [
    "# making predictions with model \n",
    "\n",
    "light_y_preds = light_model.predict(X_test_df)"
   ]
  },
  {
   "cell_type": "code",
   "execution_count": 57,
   "id": "2676c632",
   "metadata": {},
   "outputs": [
    {
     "data": {
      "text/plain": [
       "array([1, 1, 0, ..., 0, 0, 1])"
      ]
     },
     "execution_count": 57,
     "metadata": {},
     "output_type": "execute_result"
    }
   ],
   "source": [
    "light_y_preds"
   ]
  },
  {
   "cell_type": "code",
   "execution_count": 58,
   "id": "3c995784",
   "metadata": {},
   "outputs": [],
   "source": [
    "#Evaluting the model using confusion matrix\n",
    "cm = confusion_matrix(y_test, light_y_preds)"
   ]
  },
  {
   "cell_type": "code",
   "execution_count": 59,
   "id": "f20e99a7",
   "metadata": {},
   "outputs": [
    {
     "data": {
      "text/plain": [
       "Text(0.5, 15.0, 'Ground Truth')"
      ]
     },
     "execution_count": 59,
     "metadata": {},
     "output_type": "execute_result"
    },
    {
     "data": {
      "image/png": "[encoded data removed]",
      "text/plain": [
       "<Figure size 432x288 with 1 Axes>"
      ]
     },
     "metadata": {
      "needs_background": "light"
     },
     "output_type": "display_data"
    }
   ],
   "source": [
    "sns.heatmap(cm, annot=True, fmt=\"d\", cbar = False)\n",
    "plt.ylabel(\"Predicted Values\")\n",
    "plt.xlabel(\"Ground Truth\")"
   ]
  },
  {
   "cell_type": "code",
   "execution_count": 60,
   "id": "9e4293ae",
   "metadata": {},
   "outputs": [
    {
     "data": {
      "text/plain": [
       "0.9055"
      ]
     },
     "execution_count": 60,
     "metadata": {},
     "output_type": "execute_result"
    }
   ],
   "source": [
    "# accuracy score\n",
    "\n",
    "score = accuracy_score(y_test, light_y_preds)\n",
    "score"
   ]
  },
  {
   "cell_type": "markdown",
   "id": "2c8352e2",
   "metadata": {},
   "source": [
    "*THE ACCURACY SCORE ON THE TEST SET IS 0.9065*"
   ]
  },
  {
   "cell_type": "markdown",
   "id": "272aff41",
   "metadata": {},
   "source": [
    "**Question 18:**\n",
    "*What is the accuracy on the test set using the XGboost classifier? In 4 decimal places.*"
   ]
  },
  {
   "cell_type": "code",
   "execution_count": 62,
   "id": "09245e27",
   "metadata": {},
   "outputs": [],
   "source": [
    "# importing xgboost\n",
    "\n",
    "from xgboost import XGBClassifier"
   ]
  },
  {
   "cell_type": "code",
   "execution_count": 63,
   "id": "425a10ae",
   "metadata": {},
   "outputs": [
    {
     "name": "stdout",
     "output_type": "stream",
     "text": [
      "[02:32:43] WARNING: C:/Users/Administrator/workspace/xgboost-win64_release_1.5.1/src/learner.cc:1115: Starting in XGBoost 1.3.0, the default evaluation metric used with the objective 'binary:logistic' was changed from 'error' to 'logloss'. Explicitly set eval_metric if you'd like to restore the old behavior.\n"
     ]
    },
    {
     "data": {
      "text/plain": [
       "XGBClassifier(base_score=0.5, booster='gbtree', colsample_bylevel=1,\n",
       "              colsample_bynode=1, colsample_bytree=1, enable_categorical=False,\n",
       "              gamma=0, gpu_id=-1, importance_type=None,\n",
       "              interaction_constraints='', learning_rate=0.300000012,\n",
       "              max_delta_step=0, max_depth=6, min_child_weight=1, missing=nan,\n",
       "              monotone_constraints='()', n_estimators=100, n_jobs=4,\n",
       "              num_parallel_tree=1, predictor='auto', random_state=1,\n",
       "              reg_alpha=0, reg_lambda=1, scale_pos_weight=1, subsample=1,\n",
       "              tree_method='exact', validate_parameters=1, verbosity=None)"
      ]
     },
     "execution_count": 63,
     "metadata": {},
     "output_type": "execute_result"
    }
   ],
   "source": [
    "# instantiating the model\n",
    "\n",
    "xg_model = XGBClassifier(random_state=1)\n",
    "\n",
    "# fitting the model\n",
    "\n",
    "xg_model.fit(X_train_df, y_balanced)"
   ]
  },
  {
   "cell_type": "code",
   "execution_count": 64,
   "id": "2894b786",
   "metadata": {},
   "outputs": [],
   "source": [
    "# checking the score of the fitted with trianed model \n",
    "\n",
    "from sklearn.model_selection import cross_val_score\n",
    "score = cross_val_score(xg_model, \n",
    "                        X_train_df,\n",
    "                        y_balanced,\n",
    "                        scoring='accuracy',\n",
    "                       cv=5,\n",
    "                       n_jobs=-1)"
   ]
  },
  {
   "cell_type": "code",
   "execution_count": 65,
   "id": "dd72b307",
   "metadata": {},
   "outputs": [
    {
     "data": {
      "text/plain": [
       "array([0.94354443, 0.95532646, 0.95139912, 0.97496318, 0.97298625])"
      ]
     },
     "execution_count": 65,
     "metadata": {},
     "output_type": "execute_result"
    }
   ],
   "source": [
    "score"
   ]
  },
  {
   "cell_type": "code",
   "execution_count": 66,
   "id": "ca395591",
   "metadata": {},
   "outputs": [
    {
     "data": {
      "text/plain": [
       "0.96"
      ]
     },
     "execution_count": 66,
     "metadata": {},
     "output_type": "execute_result"
    }
   ],
   "source": [
    "round(score.mean(), 2)"
   ]
  },
  {
   "cell_type": "code",
   "execution_count": 67,
   "id": "dfec0ca7",
   "metadata": {},
   "outputs": [],
   "source": [
    "# making predictions with model \n",
    "\n",
    "xg_y_preds = xg_model.predict(X_test_df)"
   ]
  },
  {
   "cell_type": "code",
   "execution_count": 68,
   "id": "7d794e73",
   "metadata": {},
   "outputs": [
    {
     "data": {
      "text/plain": [
       "array([1, 1, 0, ..., 0, 0, 1])"
      ]
     },
     "execution_count": 68,
     "metadata": {},
     "output_type": "execute_result"
    }
   ],
   "source": [
    "xg_y_preds"
   ]
  },
  {
   "cell_type": "code",
   "execution_count": 69,
   "id": "46befafa",
   "metadata": {},
   "outputs": [],
   "source": [
    "#Evaluting the model using confusion matrix\n",
    "cm = confusion_matrix(y_test, xg_y_preds)"
   ]
  },
  {
   "cell_type": "code",
   "execution_count": 70,
   "id": "b9cead2b",
   "metadata": {},
   "outputs": [
    {
     "data": {
      "text/plain": [
       "0.9115"
      ]
     },
     "execution_count": 70,
     "metadata": {},
     "output_type": "execute_result"
    }
   ],
   "source": [
    "# accuracy score\n",
    "\n",
    "score = accuracy_score(y_test, xg_y_preds)\n",
    "score"
   ]
  },
  {
   "cell_type": "markdown",
   "id": "fd72070d",
   "metadata": {},
   "source": [
    "*THE ACCURACY SCORE ON THE TEST SET IS  0.9115*"
   ]
  },
  {
   "cell_type": "markdown",
   "id": "92b1322c",
   "metadata": {},
   "source": [
    "**Question 10:**\n",
    "*Find the feature importance using the optimal ExtraTreesClassifier model. Which features are the most and least important respectively?*"
   ]
  },
  {
   "cell_type": "code",
   "execution_count": 71,
   "id": "64a5434f",
   "metadata": {},
   "outputs": [],
   "source": [
    "#Training the model by importing extra tree classifier\n",
    "from sklearn.ensemble import ExtraTreesClassifier"
   ]
  },
  {
   "cell_type": "code",
   "execution_count": 72,
   "id": "09b0035c",
   "metadata": {},
   "outputs": [],
   "source": [
    "# instantiating the model\n",
    "\n",
    "etc = ExtraTreesClassifier(random_state=1)"
   ]
  },
  {
   "cell_type": "code",
   "execution_count": 73,
   "id": "1127a9dc",
   "metadata": {},
   "outputs": [
    {
     "data": {
      "text/plain": [
       "ExtraTreesClassifier(random_state=1)"
      ]
     },
     "execution_count": 73,
     "metadata": {},
     "output_type": "execute_result"
    }
   ],
   "source": [
    "# fitting the model\n",
    "\n",
    "etc.fit(X_train_df, y_balanced)"
   ]
  },
  {
   "cell_type": "code",
   "execution_count": 74,
   "id": "12536115",
   "metadata": {},
   "outputs": [
    {
     "data": {
      "text/plain": [
       "array([1, 1, 0, ..., 0, 0, 1])"
      ]
     },
     "execution_count": 74,
     "metadata": {},
     "output_type": "execute_result"
    }
   ],
   "source": [
    "#Testing the model\n",
    "etc_y_preds = etc.predict(X_test_df)\n",
    "\n",
    "\n",
    "etc_y_preds"
   ]
  },
  {
   "cell_type": "code",
   "execution_count": 75,
   "id": "5a3deb87",
   "metadata": {},
   "outputs": [],
   "source": [
    "#Evaluting the model using confusion matrix\n",
    "cm = confusion_matrix(y_test, etc_y_preds)"
   ]
  },
  {
   "cell_type": "code",
   "execution_count": 76,
   "id": "0a9f4e88",
   "metadata": {},
   "outputs": [
    {
     "data": {
      "text/plain": [
       "Text(0.5, 15.0, 'Ground Truth')"
      ]
     },
     "execution_count": 76,
     "metadata": {},
     "output_type": "execute_result"
    },
    {
     "data": {
      "image/png": "[encoded data removed]",
      "text/plain": [
       "<Figure size 432x288 with 1 Axes>"
      ]
     },
     "metadata": {
      "needs_background": "light"
     },
     "output_type": "display_data"
    }
   ],
   "source": [
    "sns.heatmap(cm, annot=True, fmt=\"d\", cbar = False)\n",
    "plt.ylabel(\"Predicted Values\")\n",
    "plt.xlabel(\"Ground Truth\")"
   ]
  },
  {
   "cell_type": "code",
   "execution_count": 77,
   "id": "8d4bb070",
   "metadata": {},
   "outputs": [
    {
     "data": {
      "text/plain": [
       "0.896"
      ]
     },
     "execution_count": 77,
     "metadata": {},
     "output_type": "execute_result"
    }
   ],
   "source": [
    "# accuracy score\n",
    "\n",
    "score = accuracy_score(y_test, etc_y_preds)\n",
    "score"
   ]
  },
  {
   "cell_type": "code",
   "execution_count": 78,
   "id": "bc28cd2e",
   "metadata": {},
   "outputs": [
    {
     "data": {
      "text/plain": [
       "array([0.11971508, 0.11765325, 0.11417414, 0.11849404, 0.03701265,\n",
       "       0.03779585, 0.0380866 , 0.03803685, 0.09157514, 0.09483179,\n",
       "       0.09979064, 0.09283399])"
      ]
     },
     "execution_count": 78,
     "metadata": {},
     "output_type": "execute_result"
    }
   ],
   "source": [
    "# Evaluating the feature importance of the model\n",
    "\n",
    "importances= etc.feature_importances_\n",
    "importances"
   ]
  },
  {
   "cell_type": "code",
   "execution_count": 79,
   "id": "9c9ce495",
   "metadata": {},
   "outputs": [
    {
     "data": {
      "text/plain": [
       "Index(['tau1', 'tau2', 'tau3', 'tau4', 'p1', 'p2', 'p3', 'p4', 'g1', 'g2',\n",
       "       'g3', 'g4'],\n",
       "      dtype='object')"
      ]
     },
     "execution_count": 79,
     "metadata": {},
     "output_type": "execute_result"
    }
   ],
   "source": [
    "feature_names = X_train_df.columns\n",
    "feature_names"
   ]
  },
  {
   "cell_type": "code",
   "execution_count": 80,
   "id": "b1575c63",
   "metadata": {},
   "outputs": [
    {
     "data": {
      "text/plain": [
       "array([0.01013275, 0.01036498, 0.00757602, 0.00855368, 0.00352996,\n",
       "       0.00339525, 0.00361567, 0.00379749, 0.00797251, 0.00680913,\n",
       "       0.0079559 , 0.00805084])"
      ]
     },
     "execution_count": 80,
     "metadata": {},
     "output_type": "execute_result"
    }
   ],
   "source": [
    "std = np.std([tree.feature_importances_ for tree in etc.estimators_], axis=0)\n",
    "std"
   ]
  },
  {
   "cell_type": "code",
   "execution_count": 81,
   "id": "fab5ad86",
   "metadata": {},
   "outputs": [
    {
     "data": {
      "text/plain": [
       "tau1    0.119715\n",
       "tau2    0.117653\n",
       "tau3    0.114174\n",
       "tau4    0.118494\n",
       "p1      0.037013\n",
       "p2      0.037796\n",
       "p3      0.038087\n",
       "p4      0.038037\n",
       "g1      0.091575\n",
       "g2      0.094832\n",
       "g3      0.099791\n",
       "g4      0.092834\n",
       "dtype: float64"
      ]
     },
     "execution_count": 81,
     "metadata": {},
     "output_type": "execute_result"
    }
   ],
   "source": [
    "etc_importances = pd.Series(importances, index=feature_names)\n",
    "etc_importances"
   ]
  },
  {
   "cell_type": "code",
   "execution_count": 82,
   "id": "71db7e70",
   "metadata": {},
   "outputs": [
    {
     "data": {
      "image/png": "[encoded data removed]",
      "text/plain": [
       "<Figure size 432x288 with 1 Axes>"
      ]
     },
     "metadata": {
      "needs_background": "light"
     },
     "output_type": "display_data"
    }
   ],
   "source": [
    "fig, ax = plt.subplots()\n",
    "etc_importances.plot.bar(yerr=std, ax=ax)\n",
    "ax.set_title(\"Feature importances using MDI\")\n",
    "ax.set_ylabel(\"Mean decrease in impurity\")\n",
    "fig.tight_layout()"
   ]
  },
  {
   "cell_type": "markdown",
   "id": "944c359a",
   "metadata": {},
   "source": [
    "*Hence, the importance features are*\n",
    "\n",
    "*THE MOST IMPORTANT FEATURE = tau1*\n",
    "\n",
    "\n",
    "*THE LEAST IMPORTANT FEATURE = p1*"
   ]
  },
  {
   "cell_type": "markdown",
   "id": "2f88d860",
   "metadata": {},
   "source": [
    "**Question 17**\n",
    "*Using the ExtraTreesClassifier as your estimator with cv=5, n_iter=10, scoring = 'accuracy', n_jobs = -1, verbose = 1 and random_state = 1. What are the best hyperparameters from the randomized search CV?*"
   ]
  },
  {
   "cell_type": "code",
   "execution_count": 83,
   "id": "73486a5b",
   "metadata": {},
   "outputs": [],
   "source": [
    "# importing the Randomized Search Cv\n",
    "\n",
    "from sklearn.model_selection import RandomizedSearchCV"
   ]
  },
  {
   "cell_type": "code",
   "execution_count": 84,
   "id": "153b1c5e",
   "metadata": {},
   "outputs": [],
   "source": [
    "# creating a dictionary for hyperparameters we want to tune\n",
    "# and the values for which we want to tune\n",
    "# key = hyperparameter\n",
    "# values = tuning values \n",
    "\n",
    "grid = {\"n_estimators\": [100,300,500,1000],\n",
    "       \"max_features\": [\"None\",\"auto\", \"log2\"],\n",
    "       \"min_samples_split\": [2, 5, 7],\n",
    "       \"min_samples_leaf\": [4, 6, 8]}"
   ]
  },
  {
   "cell_type": "code",
   "execution_count": 85,
   "id": "c2bb2379",
   "metadata": {},
   "outputs": [],
   "source": [
    "# Setup RandomizedSearchCV\n",
    "\n",
    "rs_etc = RandomizedSearchCV(estimator=etc, \n",
    "                           param_distributions=grid,\n",
    "                           n_iter=10, # number of models to try\n",
    "                           cv = 5,\n",
    "                           verbose=1,\n",
    "                           scoring=\"accuracy\",\n",
    "                           n_jobs=-1,\n",
    "                           random_state=1)"
   ]
  },
  {
   "cell_type": "code",
   "execution_count": 86,
   "id": "fe3a4492",
   "metadata": {},
   "outputs": [
    {
     "name": "stdout",
     "output_type": "stream",
     "text": [
      "Fitting 5 folds for each of 10 candidates, totalling 50 fits\n"
     ]
    },
    {
     "data": {
      "text/plain": [
       "RandomizedSearchCV(cv=5, estimator=ExtraTreesClassifier(random_state=1),\n",
       "                   n_jobs=-1,\n",
       "                   param_distributions={'max_features': ['None', 'auto',\n",
       "                                                         'log2'],\n",
       "                                        'min_samples_leaf': [4, 6, 8],\n",
       "                                        'min_samples_split': [2, 5, 7],\n",
       "                                        'n_estimators': [100, 300, 500, 1000]},\n",
       "                   random_state=1, scoring='accuracy', verbose=1)"
      ]
     },
     "execution_count": 86,
     "metadata": {},
     "output_type": "execute_result"
    }
   ],
   "source": [
    "# fit the RandomizedSearchCV version of etc\n",
    "\n",
    "rs_etc.fit(X_train_df, y_balanced)\n",
    " "
   ]
  },
  {
   "cell_type": "code",
   "execution_count": 87,
   "id": "9f79778d",
   "metadata": {},
   "outputs": [
    {
     "data": {
      "text/plain": [
       "{'n_estimators': 1000,\n",
       " 'min_samples_split': 5,\n",
       " 'min_samples_leaf': 6,\n",
       " 'max_features': 'auto'}"
      ]
     },
     "execution_count": 87,
     "metadata": {},
     "output_type": "execute_result"
    }
   ],
   "source": [
    "# choosing the best output \n",
    "# choosing best combination of passed hyperparameters that \n",
    "# get the best result\n",
    "\n",
    "rs_etc.best_params_"
   ]
  },
  {
   "cell_type": "markdown",
   "id": "7c4d45dd",
   "metadata": {},
   "source": [
    "*Hence, the best hyperparameters from randomized CV search include*\n",
    "\n",
    "'n_estimators': 1000\n",
    "  'min_samples_split': 5\n",
    "  'min_samples_leaf': 6\n",
    "  'max_features': 'auto'"
   ]
  },
  {
   "cell_type": "markdown",
   "id": "8353156e",
   "metadata": {},
   "source": [
    "**Question 11**\n",
    "*Train a new ExtraTreesClassifier Model with the new Hyperparameters from the RandomizedSearchCV (with random_state = 1). Is the accuracy of the new optimal model higher or lower than the initial ExtraTreesClassifier model with no hyperparameter tuning?*"
   ]
  },
  {
   "cell_type": "code",
   "execution_count": 88,
   "id": "1691f070",
   "metadata": {},
   "outputs": [],
   "source": [
    "# Instantiating the a new ExtraTreesClassifier\n",
    "# With the new hyperparameters \n",
    "\n",
    "etc_2 = ExtraTreesClassifier(n_estimators=1000,\n",
    "                            min_samples_split=5,\n",
    "                            min_samples_leaf=6,\n",
    "                            max_features=\"auto\")"
   ]
  },
  {
   "cell_type": "code",
   "execution_count": 89,
   "id": "e8f695ef",
   "metadata": {},
   "outputs": [
    {
     "data": {
      "text/plain": [
       "ExtraTreesClassifier(min_samples_leaf=6, min_samples_split=5, n_estimators=1000)"
      ]
     },
     "execution_count": 89,
     "metadata": {},
     "output_type": "execute_result"
    }
   ],
   "source": [
    "# Fitting the new ExtraTreeClassifier\n",
    "\n",
    "etc_2.fit(X_train_df, y_balanced)"
   ]
  },
  {
   "cell_type": "code",
   "execution_count": 90,
   "id": "1886e6c7",
   "metadata": {},
   "outputs": [],
   "source": [
    "# Testing the model on the test set \n",
    "\n",
    "etc2_y_preds = etc_2.predict(X_test_df)"
   ]
  },
  {
   "cell_type": "code",
   "execution_count": 91,
   "id": "9eeee475",
   "metadata": {},
   "outputs": [
    {
     "data": {
      "text/plain": [
       "array([1, 1, 0, ..., 0, 0, 1])"
      ]
     },
     "execution_count": 91,
     "metadata": {},
     "output_type": "execute_result"
    }
   ],
   "source": [
    "etc2_y_preds"
   ]
  },
  {
   "cell_type": "code",
   "execution_count": 92,
   "id": "4b8a6a05",
   "metadata": {},
   "outputs": [
    {
     "data": {
      "text/plain": [
       "0.894"
      ]
     },
     "execution_count": 92,
     "metadata": {},
     "output_type": "execute_result"
    }
   ],
   "source": [
    "# accuracy score\n",
    "\n",
    "etc2_score = accuracy_score(y_test, etc2_y_preds)\n",
    "etc2_score"
   ]
  },
  {
   "cell_type": "markdown",
   "id": "d955f493",
   "metadata": {},
   "source": [
    "*Hence, the accuracy of the new optimal model is lower than the initial ExtraTreesClassifier*\n",
    "\n",
    "*ACCURACY SCORE FOR INITIAL EXTRATREESCLASSIFIER  0.896*\n",
    "\n",
    "*ACCURACY SCORE FOR NEW EXTRATREESCLASSIFIER 0.8945*"
   ]
  },
  {
   "cell_type": "markdown",
   "id": "c8e7a3cd",
   "metadata": {},
   "source": [
    "**Many thanks for your time**"
   ]
  }
 ],
 "metadata": {
  "kernelspec": {
   "display_name": "Python 3 (ipykernel)",
   "language": "python",
   "name": "python3"
  },
  "language_info": {
   "codemirror_mode": {
    "name": "ipython",
    "version": 3
   },
   "file_extension": ".py",
   "mimetype": "text/x-python",
   "name": "python",
   "nbconvert_exporter": "python",
   "pygments_lexer": "ipython3",
   "version": "3.9.7"
  }
 },
 "nbformat": 4,
 "nbformat_minor": 5
}
